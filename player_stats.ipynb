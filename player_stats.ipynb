{
 "cells": [
  {
   "cell_type": "markdown",
   "metadata": {},
   "source": [
    "# NBA player stats analysis\n",
    "\n",
    "## First lets analyze all the basketball players in the NBA since 1950."
   ]
  },
  {
   "cell_type": "markdown",
   "metadata": {},
   "source": [
    "ahahahhaha add zodiac sign to see which zodiac is best"
   ]
  },
  {
   "cell_type": "code",
   "execution_count": 1,
   "metadata": {},
   "outputs": [
    {
     "data": {
      "text/html": [
       "<div class=\"bk-root\">\n",
       "        <a href=\"https://bokeh.org\" target=\"_blank\" class=\"bk-logo bk-logo-small bk-logo-notebook\"></a>\n",
       "        <span id=\"1002\">Loading BokehJS ...</span>\n",
       "    </div>\n"
      ]
     },
     "metadata": {},
     "output_type": "display_data"
    },
    {
     "data": {
      "application/javascript": "(function(root) {\n  function now() {\n    return new Date();\n  }\n\n  const force = true;\n\n  if (typeof root._bokeh_onload_callbacks === \"undefined\" || force === true) {\n    root._bokeh_onload_callbacks = [];\n    root._bokeh_is_loading = undefined;\n  }\n\nconst JS_MIME_TYPE = 'application/javascript';\n  const HTML_MIME_TYPE = 'text/html';\n  const EXEC_MIME_TYPE = 'application/vnd.bokehjs_exec.v0+json';\n  const CLASS_NAME = 'output_bokeh rendered_html';\n\n  /**\n   * Render data to the DOM node\n   */\n  function render(props, node) {\n    const script = document.createElement(\"script\");\n    node.appendChild(script);\n  }\n\n  /**\n   * Handle when an output is cleared or removed\n   */\n  function handleClearOutput(event, handle) {\n    const cell = handle.cell;\n\n    const id = cell.output_area._bokeh_element_id;\n    const server_id = cell.output_area._bokeh_server_id;\n    // Clean up Bokeh references\n    if (id != null && id in Bokeh.index) {\n      Bokeh.index[id].model.document.clear();\n      delete Bokeh.index[id];\n    }\n\n    if (server_id !== undefined) {\n      // Clean up Bokeh references\n      const cmd_clean = \"from bokeh.io.state import curstate; print(curstate().uuid_to_server['\" + server_id + \"'].get_sessions()[0].document.roots[0]._id)\";\n      cell.notebook.kernel.execute(cmd_clean, {\n        iopub: {\n          output: function(msg) {\n            const id = msg.content.text.trim();\n            if (id in Bokeh.index) {\n              Bokeh.index[id].model.document.clear();\n              delete Bokeh.index[id];\n            }\n          }\n        }\n      });\n      // Destroy server and session\n      const cmd_destroy = \"import bokeh.io.notebook as ion; ion.destroy_server('\" + server_id + \"')\";\n      cell.notebook.kernel.execute(cmd_destroy);\n    }\n  }\n\n  /**\n   * Handle when a new output is added\n   */\n  function handleAddOutput(event, handle) {\n    const output_area = handle.output_area;\n    const output = handle.output;\n\n    // limit handleAddOutput to display_data with EXEC_MIME_TYPE content only\n    if ((output.output_type != \"display_data\") || (!Object.prototype.hasOwnProperty.call(output.data, EXEC_MIME_TYPE))) {\n      return\n    }\n\n    const toinsert = output_area.element.find(\".\" + CLASS_NAME.split(' ')[0]);\n\n    if (output.metadata[EXEC_MIME_TYPE][\"id\"] !== undefined) {\n      toinsert[toinsert.length - 1].firstChild.textContent = output.data[JS_MIME_TYPE];\n      // store reference to embed id on output_area\n      output_area._bokeh_element_id = output.metadata[EXEC_MIME_TYPE][\"id\"];\n    }\n    if (output.metadata[EXEC_MIME_TYPE][\"server_id\"] !== undefined) {\n      const bk_div = document.createElement(\"div\");\n      bk_div.innerHTML = output.data[HTML_MIME_TYPE];\n      const script_attrs = bk_div.children[0].attributes;\n      for (let i = 0; i < script_attrs.length; i++) {\n        toinsert[toinsert.length - 1].firstChild.setAttribute(script_attrs[i].name, script_attrs[i].value);\n        toinsert[toinsert.length - 1].firstChild.textContent = bk_div.children[0].textContent\n      }\n      // store reference to server id on output_area\n      output_area._bokeh_server_id = output.metadata[EXEC_MIME_TYPE][\"server_id\"];\n    }\n  }\n\n  function register_renderer(events, OutputArea) {\n\n    function append_mime(data, metadata, element) {\n      // create a DOM node to render to\n      const toinsert = this.create_output_subarea(\n        metadata,\n        CLASS_NAME,\n        EXEC_MIME_TYPE\n      );\n      this.keyboard_manager.register_events(toinsert);\n      // Render to node\n      const props = {data: data, metadata: metadata[EXEC_MIME_TYPE]};\n      render(props, toinsert[toinsert.length - 1]);\n      element.append(toinsert);\n      return toinsert\n    }\n\n    /* Handle when an output is cleared or removed */\n    events.on('clear_output.CodeCell', handleClearOutput);\n    events.on('delete.Cell', handleClearOutput);\n\n    /* Handle when a new output is added */\n    events.on('output_added.OutputArea', handleAddOutput);\n\n    /**\n     * Register the mime type and append_mime function with output_area\n     */\n    OutputArea.prototype.register_mime_type(EXEC_MIME_TYPE, append_mime, {\n      /* Is output safe? */\n      safe: true,\n      /* Index of renderer in `output_area.display_order` */\n      index: 0\n    });\n  }\n\n  // register the mime type if in Jupyter Notebook environment and previously unregistered\n  if (root.Jupyter !== undefined) {\n    const events = require('base/js/events');\n    const OutputArea = require('notebook/js/outputarea').OutputArea;\n\n    if (OutputArea.prototype.mime_types().indexOf(EXEC_MIME_TYPE) == -1) {\n      register_renderer(events, OutputArea);\n    }\n  }\n  if (typeof (root._bokeh_timeout) === \"undefined\" || force === true) {\n    root._bokeh_timeout = Date.now() + 5000;\n    root._bokeh_failed_load = false;\n  }\n\n  const NB_LOAD_WARNING = {'data': {'text/html':\n     \"<div style='background-color: #fdd'>\\n\"+\n     \"<p>\\n\"+\n     \"BokehJS does not appear to have successfully loaded. If loading BokehJS from CDN, this \\n\"+\n     \"may be due to a slow or bad network connection. Possible fixes:\\n\"+\n     \"</p>\\n\"+\n     \"<ul>\\n\"+\n     \"<li>re-rerun `output_notebook()` to attempt to load from CDN again, or</li>\\n\"+\n     \"<li>use INLINE resources instead, as so:</li>\\n\"+\n     \"</ul>\\n\"+\n     \"<code>\\n\"+\n     \"from bokeh.resources import INLINE\\n\"+\n     \"output_notebook(resources=INLINE)\\n\"+\n     \"</code>\\n\"+\n     \"</div>\"}};\n\n  function display_loaded() {\n    const el = document.getElementById(\"1002\");\n    if (el != null) {\n      el.textContent = \"BokehJS is loading...\";\n    }\n    if (root.Bokeh !== undefined) {\n      if (el != null) {\n        el.textContent = \"BokehJS \" + root.Bokeh.version + \" successfully loaded.\";\n      }\n    } else if (Date.now() < root._bokeh_timeout) {\n      setTimeout(display_loaded, 100)\n    }\n  }\n\n  function run_callbacks() {\n    try {\n      root._bokeh_onload_callbacks.forEach(function(callback) {\n        if (callback != null)\n          callback();\n      });\n    } finally {\n      delete root._bokeh_onload_callbacks\n    }\n    console.debug(\"Bokeh: all callbacks have finished\");\n  }\n\n  function load_libs(css_urls, js_urls, callback) {\n    if (css_urls == null) css_urls = [];\n    if (js_urls == null) js_urls = [];\n\n    root._bokeh_onload_callbacks.push(callback);\n    if (root._bokeh_is_loading > 0) {\n      console.debug(\"Bokeh: BokehJS is being loaded, scheduling callback at\", now());\n      return null;\n    }\n    if (js_urls == null || js_urls.length === 0) {\n      run_callbacks();\n      return null;\n    }\n    console.debug(\"Bokeh: BokehJS not loaded, scheduling load and callback at\", now());\n    root._bokeh_is_loading = css_urls.length + js_urls.length;\n\n    function on_load() {\n      root._bokeh_is_loading--;\n      if (root._bokeh_is_loading === 0) {\n        console.debug(\"Bokeh: all BokehJS libraries/stylesheets loaded\");\n        run_callbacks()\n      }\n    }\n\n    function on_error(url) {\n      console.error(\"failed to load \" + url);\n    }\n\n    for (let i = 0; i < css_urls.length; i++) {\n      const url = css_urls[i];\n      const element = document.createElement(\"link\");\n      element.onload = on_load;\n      element.onerror = on_error.bind(null, url);\n      element.rel = \"stylesheet\";\n      element.type = \"text/css\";\n      element.href = url;\n      console.debug(\"Bokeh: injecting link tag for BokehJS stylesheet: \", url);\n      document.body.appendChild(element);\n    }\n\n    for (let i = 0; i < js_urls.length; i++) {\n      const url = js_urls[i];\n      const element = document.createElement('script');\n      element.onload = on_load;\n      element.onerror = on_error.bind(null, url);\n      element.async = false;\n      element.src = url;\n      console.debug(\"Bokeh: injecting script tag for BokehJS library: \", url);\n      document.head.appendChild(element);\n    }\n  };\n\n  function inject_raw_css(css) {\n    const element = document.createElement(\"style\");\n    element.appendChild(document.createTextNode(css));\n    document.body.appendChild(element);\n  }\n\n  const js_urls = [\"https://cdn.bokeh.org/bokeh/release/bokeh-2.4.3.min.js\", \"https://cdn.bokeh.org/bokeh/release/bokeh-gl-2.4.3.min.js\", \"https://cdn.bokeh.org/bokeh/release/bokeh-widgets-2.4.3.min.js\", \"https://cdn.bokeh.org/bokeh/release/bokeh-tables-2.4.3.min.js\", \"https://cdn.bokeh.org/bokeh/release/bokeh-mathjax-2.4.3.min.js\"];\n  const css_urls = [];\n\n  const inline_js = [    function(Bokeh) {\n      Bokeh.set_log_level(\"info\");\n    },\nfunction(Bokeh) {\n    }\n  ];\n\n  function run_inline_js() {\n    if (root.Bokeh !== undefined || force === true) {\n          for (let i = 0; i < inline_js.length; i++) {\n      inline_js[i].call(root, root.Bokeh);\n    }\nif (force === true) {\n        display_loaded();\n      }} else if (Date.now() < root._bokeh_timeout) {\n      setTimeout(run_inline_js, 100);\n    } else if (!root._bokeh_failed_load) {\n      console.log(\"Bokeh: BokehJS failed to load within specified timeout.\");\n      root._bokeh_failed_load = true;\n    } else if (force !== true) {\n      const cell = $(document.getElementById(\"1002\")).parents('.cell').data().cell;\n      cell.output_area.append_execute_result(NB_LOAD_WARNING)\n    }\n  }\n\n  if (root._bokeh_is_loading === 0) {\n    console.debug(\"Bokeh: BokehJS loaded, going straight to plotting\");\n    run_inline_js();\n  } else {\n    load_libs(css_urls, js_urls, function() {\n      console.debug(\"Bokeh: BokehJS plotting callback run at\", now());\n      run_inline_js();\n    });\n  }\n}(window));",
      "application/vnd.bokehjs_load.v0+json": ""
     },
     "metadata": {},
     "output_type": "display_data"
    }
   ],
   "source": [
    "## Imports\n",
    "import numpy as np\n",
    "import pandas as pd\n",
    "pd.options.plotting.backend = \"plotly\"\n",
    "pd.options.mode.chained_assignment = None\n",
    "import matplotlib.pyplot as plt\n",
    "import plotly.express as px\n",
    "import plotly.graph_objects as go\n",
    "import seaborn as sns\n",
    "from bokeh.plotting import figure, show, output_file, output_notebook\n",
    "from bokeh.models import ColumnDataSource, Range1d, HoverTool, Legend\n",
    "from bokeh.models.widgets import Tabs, Panel\n",
    "from bokeh.io import show\n",
    "from bokeh.palettes import Category20b, Spectral, Plasma, Viridis, YlOrRd, PuOr, BuPu, BuGn, brewer, GnBu, PRGn, Inferno256, PuRd, RdPu, PiYG, RdYlGn, YlGnBu, Reds, Purples\n",
    "from bokeh.io import reset_output, output_notebook\n",
    "reset_output()\n",
    "output_notebook()"
   ]
  },
  {
   "cell_type": "code",
   "execution_count": 2,
   "metadata": {},
   "outputs": [
    {
     "data": {
      "text/html": [
       "<div>\n",
       "<style scoped>\n",
       "    .dataframe tbody tr th:only-of-type {\n",
       "        vertical-align: middle;\n",
       "    }\n",
       "\n",
       "    .dataframe tbody tr th {\n",
       "        vertical-align: top;\n",
       "    }\n",
       "\n",
       "    .dataframe thead th {\n",
       "        text-align: right;\n",
       "    }\n",
       "</style>\n",
       "<table border=\"1\" class=\"dataframe\">\n",
       "  <thead>\n",
       "    <tr style=\"text-align: right;\">\n",
       "      <th></th>\n",
       "      <th>name</th>\n",
       "      <th>year_start</th>\n",
       "      <th>year_end</th>\n",
       "      <th>position</th>\n",
       "      <th>height</th>\n",
       "      <th>weight</th>\n",
       "      <th>birth_date</th>\n",
       "      <th>college</th>\n",
       "    </tr>\n",
       "  </thead>\n",
       "  <tbody>\n",
       "    <tr>\n",
       "      <th>0</th>\n",
       "      <td>Alaa Abdelnaby</td>\n",
       "      <td>1991</td>\n",
       "      <td>1995</td>\n",
       "      <td>F-C</td>\n",
       "      <td>6-10</td>\n",
       "      <td>240.0</td>\n",
       "      <td>June 24, 1968</td>\n",
       "      <td>Duke University</td>\n",
       "    </tr>\n",
       "    <tr>\n",
       "      <th>1</th>\n",
       "      <td>Zaid Abdul-Aziz</td>\n",
       "      <td>1969</td>\n",
       "      <td>1978</td>\n",
       "      <td>C-F</td>\n",
       "      <td>6-9</td>\n",
       "      <td>235.0</td>\n",
       "      <td>April 7, 1946</td>\n",
       "      <td>Iowa State University</td>\n",
       "    </tr>\n",
       "    <tr>\n",
       "      <th>2</th>\n",
       "      <td>Kareem Abdul-Jabbar</td>\n",
       "      <td>1970</td>\n",
       "      <td>1989</td>\n",
       "      <td>C</td>\n",
       "      <td>7-2</td>\n",
       "      <td>225.0</td>\n",
       "      <td>April 16, 1947</td>\n",
       "      <td>University of California, Los Angeles</td>\n",
       "    </tr>\n",
       "    <tr>\n",
       "      <th>3</th>\n",
       "      <td>Mahmoud Abdul-Rauf</td>\n",
       "      <td>1991</td>\n",
       "      <td>2001</td>\n",
       "      <td>G</td>\n",
       "      <td>6-1</td>\n",
       "      <td>162.0</td>\n",
       "      <td>March 9, 1969</td>\n",
       "      <td>Louisiana State University</td>\n",
       "    </tr>\n",
       "    <tr>\n",
       "      <th>4</th>\n",
       "      <td>Tariq Abdul-Wahad</td>\n",
       "      <td>1998</td>\n",
       "      <td>2003</td>\n",
       "      <td>F</td>\n",
       "      <td>6-6</td>\n",
       "      <td>223.0</td>\n",
       "      <td>November 3, 1974</td>\n",
       "      <td>San Jose State University</td>\n",
       "    </tr>\n",
       "  </tbody>\n",
       "</table>\n",
       "</div>"
      ],
      "text/plain": [
       "                  name  year_start  year_end position height  weight  \\\n",
       "0       Alaa Abdelnaby        1991      1995      F-C   6-10   240.0   \n",
       "1      Zaid Abdul-Aziz        1969      1978      C-F    6-9   235.0   \n",
       "2  Kareem Abdul-Jabbar        1970      1989        C    7-2   225.0   \n",
       "3   Mahmoud Abdul-Rauf        1991      2001        G    6-1   162.0   \n",
       "4    Tariq Abdul-Wahad        1998      2003        F    6-6   223.0   \n",
       "\n",
       "         birth_date                                college  \n",
       "0     June 24, 1968                        Duke University  \n",
       "1     April 7, 1946                  Iowa State University  \n",
       "2    April 16, 1947  University of California, Los Angeles  \n",
       "3     March 9, 1969             Louisiana State University  \n",
       "4  November 3, 1974              San Jose State University  "
      ]
     },
     "execution_count": 2,
     "metadata": {},
     "output_type": "execute_result"
    }
   ],
   "source": [
    "df = pd.read_csv('./data/player_data.csv')\n",
    "df.head()"
   ]
  },
  {
   "cell_type": "markdown",
   "metadata": {},
   "source": [
    "## Preprocessing"
   ]
  },
  {
   "cell_type": "markdown",
   "metadata": {},
   "source": [
    "### <font color=red> check missing data, distributions, etc."
   ]
  },
  {
   "cell_type": "code",
   "execution_count": 3,
   "metadata": {},
   "outputs": [
    {
     "data": {
      "text/html": [
       "<div>\n",
       "<style scoped>\n",
       "    .dataframe tbody tr th:only-of-type {\n",
       "        vertical-align: middle;\n",
       "    }\n",
       "\n",
       "    .dataframe tbody tr th {\n",
       "        vertical-align: top;\n",
       "    }\n",
       "\n",
       "    .dataframe thead th {\n",
       "        text-align: right;\n",
       "    }\n",
       "</style>\n",
       "<table border=\"1\" class=\"dataframe\">\n",
       "  <thead>\n",
       "    <tr style=\"text-align: right;\">\n",
       "      <th></th>\n",
       "      <th>year_start</th>\n",
       "      <th>year_end</th>\n",
       "      <th>weight</th>\n",
       "    </tr>\n",
       "  </thead>\n",
       "  <tbody>\n",
       "    <tr>\n",
       "      <th>count</th>\n",
       "      <td>4550.000000</td>\n",
       "      <td>4550.000000</td>\n",
       "      <td>4544.000000</td>\n",
       "    </tr>\n",
       "    <tr>\n",
       "      <th>mean</th>\n",
       "      <td>1985.076264</td>\n",
       "      <td>1989.272527</td>\n",
       "      <td>208.908011</td>\n",
       "    </tr>\n",
       "    <tr>\n",
       "      <th>std</th>\n",
       "      <td>20.974188</td>\n",
       "      <td>21.874761</td>\n",
       "      <td>26.268662</td>\n",
       "    </tr>\n",
       "    <tr>\n",
       "      <th>min</th>\n",
       "      <td>1947.000000</td>\n",
       "      <td>1947.000000</td>\n",
       "      <td>114.000000</td>\n",
       "    </tr>\n",
       "    <tr>\n",
       "      <th>25%</th>\n",
       "      <td>1969.000000</td>\n",
       "      <td>1973.000000</td>\n",
       "      <td>190.000000</td>\n",
       "    </tr>\n",
       "    <tr>\n",
       "      <th>50%</th>\n",
       "      <td>1986.000000</td>\n",
       "      <td>1992.000000</td>\n",
       "      <td>210.000000</td>\n",
       "    </tr>\n",
       "    <tr>\n",
       "      <th>75%</th>\n",
       "      <td>2003.000000</td>\n",
       "      <td>2009.000000</td>\n",
       "      <td>225.000000</td>\n",
       "    </tr>\n",
       "    <tr>\n",
       "      <th>max</th>\n",
       "      <td>2018.000000</td>\n",
       "      <td>2018.000000</td>\n",
       "      <td>360.000000</td>\n",
       "    </tr>\n",
       "  </tbody>\n",
       "</table>\n",
       "</div>"
      ],
      "text/plain": [
       "        year_start     year_end       weight\n",
       "count  4550.000000  4550.000000  4544.000000\n",
       "mean   1985.076264  1989.272527   208.908011\n",
       "std      20.974188    21.874761    26.268662\n",
       "min    1947.000000  1947.000000   114.000000\n",
       "25%    1969.000000  1973.000000   190.000000\n",
       "50%    1986.000000  1992.000000   210.000000\n",
       "75%    2003.000000  2009.000000   225.000000\n",
       "max    2018.000000  2018.000000   360.000000"
      ]
     },
     "execution_count": 3,
     "metadata": {},
     "output_type": "execute_result"
    }
   ],
   "source": [
    "df.describe()"
   ]
  },
  {
   "cell_type": "code",
   "execution_count": 10,
   "metadata": {},
   "outputs": [
    {
     "name": "stdout",
     "output_type": "stream",
     "text": [
      "<class 'pandas.core.frame.DataFrame'>\n",
      "RangeIndex: 4550 entries, 0 to 4549\n",
      "Data columns (total 8 columns):\n",
      " #   Column      Non-Null Count  Dtype  \n",
      "---  ------      --------------  -----  \n",
      " 0   name        4550 non-null   object \n",
      " 1   year_start  4550 non-null   int64  \n",
      " 2   year_end    4550 non-null   int64  \n",
      " 3   position    4549 non-null   object \n",
      " 4   height      4549 non-null   object \n",
      " 5   weight      4544 non-null   float64\n",
      " 6   birth_date  4519 non-null   object \n",
      " 7   college     4248 non-null   object \n",
      "dtypes: float64(1), int64(2), object(5)\n",
      "memory usage: 284.5+ KB\n"
     ]
    }
   ],
   "source": [
    "df.info()"
   ]
  },
  {
   "cell_type": "markdown",
   "metadata": {},
   "source": [
    "minimal nans"
   ]
  },
  {
   "cell_type": "markdown",
   "metadata": {},
   "source": []
  },
  {
   "cell_type": "markdown",
   "metadata": {},
   "source": [
    "check dtypes"
   ]
  },
  {
   "cell_type": "markdown",
   "metadata": {},
   "source": []
  },
  {
   "cell_type": "markdown",
   "metadata": {},
   "source": [
    "What extra columns to add?\n",
    "- extract birthdays: year, month, day, to see any fun info\n",
    "- change height to be in cm or inches\n",
    "- can extract the state from the college with some mapping in case that is interesting\n",
    "- extract coordinates of the college and see where players went to school overtime\n",
    "- add column for years_in_league"
   ]
  },
  {
   "cell_type": "markdown",
   "metadata": {},
   "source": [
    "## Start with seeing basic breakdown of NBA players "
   ]
  },
  {
   "cell_type": "markdown",
   "metadata": {},
   "source": [
    "**Make dicts to store marker_color and marker_line details for coloring based on teams for fun :)**"
   ]
  },
  {
   "cell_type": "code",
   "execution_count": 4,
   "metadata": {},
   "outputs": [],
   "source": [
    "bucks = {'marker_color':'#00471B', \n",
    "          'marker_line': {'width':3, 'color':'#EEE1C6'}}\n",
    "\n",
    "bucks_r = {'marker_color':'#EEE1C6', \n",
    "          'marker_line': {'width':3, 'color':'#00471B'}}\n",
    "\n",
    "retro_bucks = {'marker_color':'#702F8A', \n",
    "          'marker_line': {'width':3, 'color':'#2C5234'}}\n",
    "\n",
    "retro_bucks_r = {'marker_color':'#2C5234', \n",
    "          'marker_line': {'width':3, 'color':'#702F8A'}}\n",
    "\n",
    "lakers = {'marker_color':'#552583', \n",
    "          'marker_line': {'width':3, 'color':'#FDB927'}}\n",
    "\n",
    "lakers_r = {'marker_color':'#FDB927', \n",
    "          'marker_line': {'width':3, 'color':'#552583'}}\n",
    "\n",
    "cavs = {'marker_color':'#860038', \n",
    "          'marker_line': {'width':3, 'color':'#FDBB30'}}\n",
    "\n",
    "cavs_r = {'marker_color':'#FDBB30', \n",
    "          'marker_line': {'width':3, 'color':'#860038'}}\n",
    "\n",
    "sixers = {'marker_color':'#006BB6', \n",
    "          'marker_line': {'width':3, 'color':'#ED174C'}}\n",
    "\n",
    "sixers_r = {'marker_color':'#ED174C', \n",
    "          'marker_line': {'width':3, 'color':'#006BB6'}}\n",
    "\n",
    "okc = {'marker_color':'#007AC1', \n",
    "          'marker_line': {'width':3, 'color':'#EF3B24'}}\n",
    "\n",
    "okc_r = {'marker_color':'#EF3B24', \n",
    "          'marker_line': {'width':3, 'color':'#007AC1'}}\n",
    "\n",
    "# add more\n",
    "\n",
    "purple_theme = {'marker_color':'lavender', \n",
    "          'marker_line': {'width':3, 'color':'indigo'}}\n"
   ]
  },
  {
   "cell_type": "code",
   "execution_count": 5,
   "metadata": {},
   "outputs": [
    {
     "data": {
      "application/vnd.plotly.v1+json": {
       "config": {
        "plotlyServerURL": "https://plot.ly"
       },
       "data": [
        {
         "alignmentgroup": "True",
         "bingroup": "x",
         "hovertemplate": "variable=weight<br>value=%{x}<br>count=%{y}<extra></extra>",
         "legendgroup": "weight",
         "marker": {
          "color": "#860038",
          "line": {
           "color": "#FDBB30",
           "width": 3
          },
          "pattern": {
           "shape": ""
          }
         },
         "name": "weight",
         "nbinsx": 25,
         "offsetgroup": "weight",
         "orientation": "v",
         "showlegend": true,
         "type": "histogram",
         "x": [
          240,
          235,
          225,
          162,
          223,
          225,
          220,
          180,
          195,
          190,
          185,
          183,
          220,
          210,
          240,
          210,
          210,
          210,
          220,
          209,
          162,
          255,
          215,
          243,
          175,
          245,
          210,
          202,
          232,
          190,
          175,
          230,
          248,
          225,
          185,
          251,
          217,
          225,
          240,
          250,
          260,
          260,
          245,
          185,
          205,
          240,
          230,
          265,
          183,
          205,
          205,
          234,
          184,
          192,
          260,
          175,
          255,
          220,
          205,
          213,
          230,
          195,
          250,
          220,
          225,
          225,
          171,
          260,
          270,
          230,
          220,
          220,
          200,
          245,
          245,
          220,
          184,
          215,
          200,
          230,
          185,
          194,
          185,
          220,
          230,
          195,
          213,
          195,
          228,
          168,
          200,
          230,
          184,
          205,
          240,
          215,
          240,
          208,
          190,
          220,
          240,
          190,
          252,
          225,
          249,
          222,
          205,
          240,
          176,
          245,
          260,
          232,
          185,
          280,
          210,
          250,
          150,
          188,
          215,
          191,
          215,
          190,
          230,
          175,
          220,
          188,
          170,
          170,
          235,
          175,
          220,
          175,
          205,
          202,
          235,
          185,
          213,
          255,
          210,
          197,
          185,
          190,
          160,
          175,
          137,
          205,
          183,
          235,
          255,
          170,
          205,
          235,
          170,
          197,
          235,
          250,
          240,
          220,
          225,
          225,
          240,
          180,
          222,
          205,
          205,
          255,
          185,
          210,
          185,
          220,
          215,
          213,
          250,
          220,
          175,
          175,
          180,
          220,
          232,
          202,
          208,
          210,
          190,
          215,
          195,
          215,
          200,
          205,
          235,
          200,
          210,
          194,
          190,
          185,
          245,
          185,
          225,
          252,
          177,
          200,
          210,
          205,
          210,
          210,
          226,
          190,
          170,
          175,
          180,
          205,
          190,
          205,
          180,
          195,
          172,
          180,
          155,
          250,
          163,
          185,
          191,
          195,
          205,
          195,
          230,
          175,
          215,
          190,
          250,
          225,
          215,
          290,
          210,
          270,
          225,
          230,
          220,
          175,
          210,
          240,
          185,
          200,
          200,
          170,
          260,
          200,
          225,
          235,
          260,
          168,
          201,
          200,
          207,
          200,
          185,
          175,
          190,
          237,
          225,
          196,
          235,
          225,
          170,
          225,
          190,
          190,
          205,
          185,
          205,
          225,
          185,
          185,
          210,
          210,
          200,
          185,
          224,
          204,
          180,
          180,
          225,
          210,
          185,
          185,
          225,
          202,
          245,
          250,
          200,
          245,
          170,
          235,
          200,
          190,
          175,
          210,
          220,
          240,
          235,
          235,
          175,
          210,
          210,
          205,
          215,
          210,
          165,
          182,
          185,
          360,
          185,
          185,
          175,
          185,
          190,
          175,
          240,
          240,
          215,
          215,
          202,
          180,
          235,
          220,
          197,
          210,
          220,
          190,
          195,
          255,
          240,
          252,
          200,
          185,
          250,
          220,
          190,
          250,
          210,
          190,
          170,
          270,
          172,
          197,
          205,
          175,
          190,
          215,
          235,
          180,
          205,
          160,
          207,
          190,
          240,
          230,
          200,
          185,
          170,
          190,
          200,
          265,
          215,
          205,
          216,
          136,
          260,
          220,
          200,
          205,
          235,
          195,
          220,
          175,
          200,
          185,
          192,
          215,
          235,
          230,
          206,
          185,
          228,
          237,
          200,
          230,
          226,
          215,
          258,
          240,
          200,
          220,
          220,
          210,
          235,
          225,
          225,
          220,
          257,
          210,
          245,
          185,
          215,
          220,
          190,
          235,
          215,
          195,
          230,
          196,
          175,
          180,
          195,
          135,
          225,
          185,
          207,
          175,
          230,
          210,
          215,
          190,
          180,
          165,
          205,
          215,
          195,
          215,
          175,
          245,
          235,
          240,
          265,
          230,
          245,
          227,
          185,
          275,
          180,
          215,
          220,
          195,
          170,
          185,
          180,
          215,
          185,
          205,
          195,
          230,
          186,
          184,
          210,
          180,
          220,
          252,
          180,
          240,
          210,
          228,
          195,
          175,
          210,
          210,
          190,
          185,
          235,
          180,
          255,
          185,
          215,
          178,
          185,
          190,
          161,
          220,
          200,
          200,
          220,
          165,
          245,
          210,
          205,
          175,
          214,
          200,
          175,
          160,
          185,
          225,
          220,
          244,
          182,
          190,
          210,
          155,
          215,
          225,
          220,
          222,
          270,
          160,
          190,
          225,
          189,
          185,
          190,
          257,
          180,
          225,
          190,
          220,
          215,
          205,
          225,
          205,
          200,
          225,
          189,
          185,
          235,
          210,
          208,
          160,
          190,
          195,
          175,
          185,
          212,
          245,
          248,
          245,
          250,
          200,
          210,
          215,
          210,
          210,
          190,
          205,
          209,
          220,
          220,
          189,
          215,
          205,
          240,
          190,
          170,
          250,
          200,
          185,
          250,
          191,
          175,
          214,
          200,
          205,
          225,
          190,
          180,
          260,
          195,
          218,
          220,
          242,
          228,
          225,
          210,
          185,
          190,
          215,
          200,
          175,
          228,
          240,
          250,
          236,
          170,
          210,
          215,
          190,
          220,
          285,
          185,
          205,
          215,
          175,
          170,
          235,
          175,
          218,
          255,
          224,
          175,
          213,
          200,
          265,
          240,
          195,
          205,
          180,
          210,
          165,
          180,
          180,
          145,
          165,
          224,
          220,
          215,
          215,
          201,
          195,
          240,
          275,
          195,
          245,
          160,
          195,
          180,
          210,
          210,
          235,
          170,
          170,
          205,
          200,
          225,
          200,
          207,
          210,
          220,
          205,
          185,
          195,
          215,
          225,
          212,
          265,
          190,
          180,
          185,
          210,
          215,
          195,
          210,
          175,
          190,
          220,
          190,
          245,
          220,
          186,
          215,
          230,
          185,
          225,
          218,
          220,
          230,
          255,
          250,
          240,
          240,
          239,
          230,
          190,
          178,
          170,
          180,
          190,
          188,
          275,
          185,
          220,
          230,
          240,
          225,
          210,
          185,
          185,
          190,
          240,
          180,
          225,
          209,
          180,
          180,
          185,
          195,
          230,
          210,
          188,
          195,
          190,
          220,
          233,
          210,
          210,
          255,
          200,
          205,
          250,
          190,
          209,
          200,
          195,
          175,
          210,
          225,
          175,
          220,
          190,
          232,
          194,
          185,
          224,
          200,
          265,
          166,
          185,
          205,
          210,
          195,
          220,
          195,
          212,
          180,
          235,
          198,
          212,
          190,
          253,
          175,
          235,
          230,
          225,
          195,
          210,
          180,
          260,
          185,
          190,
          180,
          196,
          255,
          255,
          175,
          235,
          220,
          205,
          232,
          210,
          175,
          255,
          210,
          175,
          165,
          185,
          210,
          193,
          205,
          210,
          180,
          225,
          175,
          175,
          200,
          224,
          206,
          190,
          180,
          190,
          195,
          205,
          185,
          155,
          234,
          205,
          184,
          215,
          210,
          190,
          184,
          196,
          230,
          175,
          260,
          210,
          185,
          230,
          170,
          220,
          275,
          239,
          180,
          190,
          210,
          185,
          210,
          180,
          250,
          186,
          245,
          165,
          200,
          220,
          225,
          230,
          188,
          235,
          245,
          270,
          175,
          215,
          230,
          180,
          180,
          215,
          210,
          215,
          235,
          189,
          200,
          210,
          195,
          200,
          235,
          215,
          185,
          165,
          150,
          233,
          200,
          205,
          200,
          280,
          195,
          235,
          240,
          230,
          215,
          165,
          185,
          180,
          210,
          214,
          235,
          230,
          230,
          220,
          185,
          210,
          230,
          245,
          195,
          250,
          275,
          198,
          210,
          220,
          175,
          190,
          295,
          190,
          210,
          185,
          190,
          260,
          185,
          242,
          190,
          180,
          255,
          200,
          265,
          170,
          195,
          195,
          214,
          205,
          200,
          220,
          205,
          200,
          208,
          217,
          170,
          235,
          265,
          210,
          215,
          170,
          215,
          245,
          175,
          235,
          230,
          175,
          240,
          253,
          215,
          175,
          209,
          240,
          215,
          215,
          180,
          200,
          215,
          160,
          230,
          237,
          220,
          240,
          195,
          289,
          220,
          183,
          225,
          170,
          235,
          235,
          195,
          210,
          220,
          195,
          185,
          230,
          205,
          270,
          180,
          220,
          195,
          198,
          225,
          205,
          193,
          212,
          234,
          215,
          251,
          165,
          190,
          225,
          250,
          175,
          215,
          188,
          220,
          220,
          200,
          190,
          180,
          220,
          230,
          245,
          210,
          205,
          190,
          175,
          209,
          230,
          185,
          190,
          235,
          230,
          189,
          198,
          220,
          215,
          225,
          205,
          190,
          220,
          220,
          175,
          185,
          240,
          185,
          175,
          221,
          170,
          195,
          215,
          184,
          220,
          250,
          225,
          192,
          190,
          215,
          190,
          190,
          185,
          218,
          175,
          240,
          175,
          241,
          222,
          220,
          180,
          215,
          230,
          170,
          190,
          180,
          170,
          210,
          200,
          220,
          200,
          250,
          300,
          189,
          210,
          243,
          164,
          198,
          175,
          262,
          175,
          195,
          275,
          190,
          171,
          180,
          196,
          230,
          268,
          200,
          183,
          205,
          175,
          195,
          170,
          230,
          180,
          195,
          200,
          198,
          155,
          191,
          210,
          225,
          200,
          210,
          190,
          200,
          250,
          185,
          205,
          170,
          180,
          210,
          215,
          215,
          270,
          250,
          279,
          185,
          275,
          180,
          235,
          225,
          180,
          175,
          185,
          185,
          220,
          220,
          190,
          170,
          200,
          190,
          195,
          250,
          180,
          230,
          210,
          170,
          192,
          209,
          240,
          195,
          188,
          210,
          200,
          190,
          175,
          200,
          190,
          225,
          180,
          220,
          215,
          240,
          190,
          210,
          114,
          275,
          180,
          215,
          190,
          225,
          200,
          220,
          218,
          240,
          189,
          205,
          210,
          220,
          195,
          152,
          215,
          200,
          275,
          220,
          170,
          225,
          185,
          275,
          190,
          220,
          180,
          170,
          198,
          180,
          200,
          177,
          270,
          200,
          210,
          210,
          230,
          245,
          200,
          225,
          205,
          197,
          185,
          205,
          200,
          175,
          240,
          225,
          210,
          185,
          210,
          220,
          235,
          190,
          260,
          250,
          240,
          230,
          200,
          245,
          245,
          175,
          190,
          185,
          195,
          200,
          205,
          205,
          210,
          194,
          195,
          240,
          220,
          195,
          210,
          255,
          200,
          198,
          170,
          175,
          220,
          202,
          185,
          200,
          220,
          170,
          245,
          220,
          185,
          240,
          235,
          190,
          210,
          255,
          175,
          190,
          205,
          185,
          228,
          190,
          180,
          220,
          190,
          210,
          244,
          185,
          260,
          265,
          235,
          190,
          190,
          185,
          255,
          185,
          185,
          235,
          176,
          275,
          201,
          225,
          220,
          205,
          180,
          190,
          203,
          184,
          185,
          205,
          190,
          240,
          209,
          180,
          180,
          230,
          230,
          288,
          175,
          220,
          210,
          205,
          240,
          185,
          240,
          215,
          185,
          220,
          235,
          200,
          215,
          188,
          190,
          175,
          262,
          190,
          215,
          189,
          185,
          200,
          225,
          170,
          185,
          180,
          205,
          170,
          210,
          190,
          265,
          190,
          220,
          190,
          275,
          228,
          190,
          215,
          180,
          175,
          225,
          210,
          165,
          175,
          235,
          194,
          185,
          260,
          210,
          240,
          236,
          175,
          160,
          219,
          205,
          215,
          175,
          230,
          220,
          170,
          175,
          230,
          230,
          213,
          250,
          210,
          195,
          225,
          195,
          191,
          220,
          205,
          170,
          200,
          210,
          205,
          195,
          185,
          250,
          185,
          210,
          225,
          240,
          195,
          185,
          195,
          210,
          255,
          185,
          175,
          170,
          190,
          225,
          240,
          255,
          180,
          195,
          230,
          190,
          170,
          240,
          250,
          195,
          185,
          195,
          170,
          205,
          185,
          185,
          255,
          210,
          225,
          200,
          215,
          210,
          205,
          245,
          245,
          220,
          195,
          205,
          195,
          205,
          225,
          200,
          190,
          210,
          180,
          170,
          200,
          220,
          156,
          225,
          240,
          186,
          190,
          225,
          190,
          185,
          210,
          185,
          205,
          183,
          238,
          200,
          255,
          250,
          160,
          220,
          225,
          230,
          210,
          205,
          200,
          187,
          225,
          243,
          215,
          220,
          190,
          220,
          190,
          216,
          200,
          200,
          180,
          205,
          220,
          210,
          190,
          175,
          198,
          185,
          180,
          205,
          225,
          215,
          185,
          190,
          195,
          235,
          215,
          205,
          230,
          190,
          240,
          225,
          225,
          205,
          210,
          205,
          220,
          225,
          221,
          175,
          190,
          235,
          210,
          228,
          280,
          250,
          245,
          250,
          205,
          185,
          182,
          250,
          218,
          205,
          250,
          170,
          220,
          200,
          203,
          220,
          200,
          245,
          215,
          185,
          185,
          240,
          180,
          200,
          220,
          185,
          195,
          180,
          195,
          174,
          225,
          185,
          220,
          200,
          215,
          220,
          235,
          215,
          222,
          190,
          254,
          195,
          185,
          140,
          195,
          215,
          210,
          195,
          223,
          245,
          215,
          185,
          200,
          270,
          240,
          210,
          235,
          185,
          240,
          235,
          230,
          175,
          200,
          206,
          220,
          215,
          210,
          230,
          185,
          205,
          227,
          235,
          200,
          215,
          210,
          210,
          185,
          190,
          200,
          170,
          210,
          185,
          220,
          220,
          177,
          185,
          200,
          226,
          208,
          195,
          222,
          175,
          175,
          225,
          205,
          215,
          180,
          210,
          215,
          217,
          251,
          220,
          190,
          205,
          238,
          190,
          190,
          230,
          185,
          180,
          200,
          230,
          215,
          218,
          184,
          180,
          210,
          220,
          260,
          195,
          240,
          225,
          255,
          190,
          190,
          200,
          195,
          175,
          191,
          180,
          210,
          254,
          235,
          180,
          210,
          170,
          185,
          240,
          170,
          225,
          180,
          220,
          230,
          230,
          225,
          235,
          170,
          180,
          240,
          199,
          230,
          193,
          220,
          245,
          180,
          195,
          210,
          160,
          220,
          260,
          188,
          185,
          180,
          190,
          220,
          330,
          250,
          262,
          205,
          215,
          260,
          180,
          205,
          240,
          175,
          195,
          210,
          200,
          210,
          203,
          250,
          190,
          205,
          225,
          205,
          195,
          185,
          246,
          195,
          175,
          205,
          220,
          249,
          225,
          195,
          220,
          220,
          225,
          180,
          215,
          175,
          185,
          190,
          185,
          225,
          195,
          185,
          231,
          240,
          275,
          200,
          230,
          180,
          235,
          185,
          200,
          185,
          195,
          190,
          192,
          239,
          210,
          219,
          190,
          185,
          240,
          195,
          190,
          235,
          190,
          210,
          213,
          190,
          280,
          185,
          209,
          225,
          220,
          250,
          195,
          235,
          200,
          180,
          180,
          235,
          242,
          195,
          203,
          245,
          220,
          210,
          190,
          220,
          205,
          178,
          190,
          210,
          190,
          240,
          235,
          220,
          200,
          205,
          226,
          225,
          268,
          225,
          172,
          185,
          185,
          180,
          180,
          219,
          170,
          225,
          218,
          220,
          235,
          210,
          215,
          195,
          175,
          215,
          226,
          230,
          195,
          190,
          220,
          185,
          225,
          190,
          215,
          205,
          195,
          190,
          220,
          229,
          177,
          210,
          170,
          225,
          230,
          240,
          197,
          215,
          225,
          195,
          175,
          210,
          220,
          210,
          195,
          205,
          215,
          270,
          180,
          205,
          242,
          214,
          180,
          180,
          195,
          220,
          200,
          205,
          180,
          185,
          192,
          250,
          190,
          185,
          185,
          188,
          225,
          235,
          233,
          225,
          248,
          240,
          220,
          205,
          215,
          185,
          190,
          210,
          165,
          200,
          184,
          210,
          230,
          210,
          190,
          158,
          195,
          230,
          240,
          203,
          200,
          225,
          205,
          185,
          180,
          185,
          205,
          175,
          185,
          240,
          195,
          220,
          175,
          245,
          180,
          210,
          185,
          205,
          215,
          175,
          245,
          188,
          222,
          206,
          180,
          230,
          230,
          205,
          235,
          200,
          204,
          190,
          220,
          245,
          245,
          220,
          190,
          230,
          220,
          230,
          225,
          210,
          207,
          180,
          200,
          250,
          205,
          204,
          265,
          215,
          210,
          240,
          170,
          220,
          225,
          210,
          215,
          215,
          190,
          210,
          170,
          200,
          230,
          245,
          215,
          165,
          220,
          184,
          235,
          215,
          230,
          235,
          185,
          235,
          185,
          260,
          180,
          240,
          210,
          170,
          225,
          185,
          220,
          208,
          165,
          170,
          175,
          175,
          200,
          170,
          215,
          210,
          235,
          215,
          238,
          230,
          245,
          235,
          220,
          180,
          226,
          246,
          190,
          210,
          190,
          190,
          200,
          193,
          210,
          235,
          175,
          165,
          180,
          200,
          210,
          193,
          200,
          200,
          185,
          185,
          191,
          253,
          201,
          180,
          190,
          204,
          220,
          207,
          200,
          240,
          215,
          270,
          180,
          175,
          183,
          215,
          185,
          220,
          180,
          190,
          215,
          208,
          185,
          218,
          200,
          170,
          205,
          200,
          175,
          215,
          215,
          190,
          210,
          240,
          185,
          225,
          180,
          220,
          300,
          250,
          188,
          189,
          212,
          223,
          260,
          200,
          185,
          198,
          185,
          175,
          195,
          280,
          175,
          210,
          225,
          200,
          289,
          218,
          195,
          233,
          230,
          220,
          180,
          215,
          170,
          160,
          220,
          237,
          231,
          235,
          175,
          190,
          240,
          210,
          240,
          240,
          215,
          190,
          195,
          236,
          175,
          230,
          190,
          180,
          170,
          195,
          210,
          206,
          175,
          240,
          255,
          170,
          210,
          245,
          185,
          201,
          205,
          180,
          215,
          205,
          245,
          185,
          245,
          205,
          210,
          230,
          240,
          230,
          221,
          250,
          240,
          200,
          220,
          240,
          240,
          180,
          205,
          250,
          205,
          205,
          215,
          218,
          190,
          220,
          202,
          200,
          220,
          170,
          205,
          210,
          215,
          245,
          240,
          235,
          220,
          218,
          186,
          200,
          215,
          215,
          210,
          210,
          245,
          250,
          218,
          265,
          195,
          200,
          175,
          210,
          215,
          217,
          215,
          215,
          180,
          203,
          225,
          245,
          185,
          221,
          190,
          215,
          220,
          250,
          210,
          210,
          190,
          225,
          210,
          190,
          180,
          223,
          218,
          188,
          205,
          218,
          200,
          251,
          180,
          225,
          175,
          215,
          190,
          235,
          235,
          250,
          220,
          225,
          198,
          210,
          230,
          205,
          252,
          195,
          225,
          180,
          205,
          185,
          170,
          220,
          265,
          170,
          253,
          195,
          195,
          220,
          198,
          205,
          185,
          228,
          200,
          193,
          315,
          210,
          245,
          190,
          200,
          185,
          175,
          190,
          245,
          265,
          242,
          245,
          170,
          213,
          165,
          208,
          215,
          null,
          185,
          260,
          185,
          240,
          260,
          180,
          218,
          178,
          185,
          230,
          185,
          177,
          220,
          180,
          235,
          225,
          175,
          172,
          230,
          170,
          190,
          195,
          230,
          245,
          198,
          206,
          215,
          205,
          210,
          180,
          205,
          187,
          245,
          230,
          175,
          215,
          215,
          210,
          230,
          277,
          200,
          195,
          210,
          205,
          235,
          232,
          225,
          170,
          180,
          230,
          210,
          220,
          190,
          153,
          190,
          190,
          205,
          215,
          220,
          185,
          175,
          230,
          175,
          210,
          180,
          195,
          225,
          260,
          185,
          230,
          165,
          215,
          185,
          220,
          245,
          173,
          190,
          210,
          210,
          235,
          250,
          179,
          220,
          255,
          245,
          170,
          150,
          175,
          220,
          195,
          185,
          180,
          189,
          173,
          175,
          215,
          210,
          235,
          215,
          215,
          215,
          210,
          215,
          212,
          185,
          250,
          225,
          210,
          240,
          185,
          225,
          203,
          212,
          215,
          245,
          203,
          220,
          265,
          220,
          215,
          220,
          200,
          203,
          200,
          195,
          190,
          260,
          230,
          175,
          200,
          205,
          240,
          220,
          215,
          160,
          230,
          193,
          180,
          200,
          192,
          230,
          210,
          230,
          220,
          232,
          200,
          220,
          251,
          215,
          225,
          230,
          190,
          235,
          200,
          210,
          220,
          235,
          190,
          240,
          220,
          245,
          190,
          180,
          210,
          185,
          225,
          195,
          275,
          230,
          227,
          248,
          230,
          215,
          230,
          245,
          205,
          285,
          197,
          215,
          220,
          250,
          175,
          180,
          183,
          175,
          210,
          220,
          185,
          215,
          225,
          325,
          190,
          178,
          185,
          220,
          185,
          189,
          185,
          195,
          234,
          228,
          240,
          195,
          210,
          180,
          222,
          225,
          163,
          170,
          180,
          265,
          195,
          185,
          205,
          200,
          225,
          245,
          null,
          200,
          200,
          190,
          215,
          190,
          200,
          220,
          193,
          185,
          185,
          190,
          200,
          180,
          260,
          205,
          200,
          250,
          230,
          245,
          185,
          165,
          205,
          175,
          170,
          228,
          190,
          170,
          203,
          210,
          175,
          235,
          195,
          175,
          215,
          210,
          225,
          215,
          200,
          215,
          195,
          205,
          205,
          180,
          209,
          180,
          210,
          195,
          200,
          225,
          240,
          180,
          160,
          209,
          192,
          220,
          285,
          184,
          220,
          200,
          205,
          230,
          215,
          185,
          225,
          245,
          240,
          205,
          200,
          180,
          175,
          230,
          250,
          225,
          195,
          180,
          255,
          225,
          265,
          220,
          275,
          199,
          170,
          255,
          190,
          220,
          210,
          190,
          215,
          251,
          215,
          234,
          195,
          185,
          205,
          195,
          230,
          175,
          195,
          215,
          166,
          205,
          175,
          180,
          220,
          165,
          178,
          205,
          215,
          234,
          190,
          218,
          195,
          215,
          215,
          200,
          210,
          185,
          280,
          185,
          205,
          214,
          185,
          220,
          203,
          248,
          205,
          227,
          180,
          235,
          185,
          175,
          185,
          190,
          200,
          240,
          185,
          160,
          218,
          202,
          259,
          210,
          250,
          220,
          175,
          205,
          240,
          215,
          200,
          216,
          150,
          205,
          250,
          215,
          192,
          230,
          215,
          180,
          205,
          195,
          230,
          210,
          195,
          253,
          190,
          190,
          197,
          185,
          200,
          190,
          180,
          200,
          165,
          200,
          220,
          290,
          230,
          225,
          250,
          185,
          215,
          200,
          230,
          218,
          200,
          190,
          215,
          200,
          205,
          250,
          212,
          220,
          213,
          170,
          160,
          210,
          220,
          239,
          195,
          234,
          199,
          208,
          200,
          190,
          170,
          185,
          240,
          174,
          250,
          224,
          189,
          200,
          220,
          220,
          230,
          220,
          170,
          220,
          190,
          250,
          260,
          205,
          180,
          200,
          215,
          266,
          172,
          225,
          175,
          205,
          185,
          175,
          210,
          190,
          210,
          230,
          210,
          230,
          190,
          190,
          244,
          178,
          240,
          207,
          180,
          190,
          175,
          185,
          190,
          200,
          230,
          235,
          185,
          185,
          180,
          270,
          190,
          205,
          190,
          195,
          170,
          200,
          210,
          240,
          245,
          180,
          192,
          220,
          215,
          200,
          190,
          180,
          205,
          228,
          205,
          225,
          210,
          190,
          232,
          205,
          215,
          220,
          190,
          185,
          240,
          190,
          255,
          270,
          190,
          225,
          235,
          205,
          210,
          240,
          225,
          205,
          180,
          175,
          180,
          220,
          210,
          185,
          240,
          190,
          225,
          215,
          190,
          195,
          200,
          195,
          205,
          209,
          160,
          185,
          190,
          215,
          195,
          230,
          200,
          188,
          221,
          185,
          195,
          215,
          215,
          205,
          210,
          200,
          235,
          210,
          200,
          210,
          170,
          195,
          185,
          210,
          205,
          235,
          185,
          185,
          240,
          200,
          175,
          250,
          175,
          210,
          215,
          225,
          195,
          208,
          185,
          245,
          191,
          165,
          185,
          255,
          170,
          175,
          168,
          195,
          168,
          240,
          210,
          210,
          215,
          180,
          215,
          195,
          257,
          215,
          210,
          220,
          235,
          234,
          180,
          265,
          230,
          245,
          210,
          230,
          210,
          175,
          225,
          210,
          195,
          235,
          250,
          195,
          200,
          225,
          190,
          230,
          244,
          235,
          215,
          225,
          230,
          205,
          190,
          210,
          218,
          280,
          210,
          185,
          190,
          215,
          203,
          185,
          230,
          225,
          246,
          210,
          310,
          180,
          185,
          210,
          215,
          220,
          150,
          175,
          211,
          210,
          215,
          null,
          210,
          205,
          216,
          235,
          215,
          190,
          190,
          235,
          215,
          210,
          190,
          221,
          235,
          250,
          200,
          230,
          180,
          170,
          220,
          200,
          185,
          265,
          185,
          185,
          220,
          270,
          205,
          215,
          215,
          191,
          225,
          180,
          175,
          215,
          170,
          225,
          205,
          190,
          260,
          200,
          238,
          215,
          205,
          190,
          230,
          235,
          210,
          190,
          229,
          235,
          245,
          195,
          175,
          266,
          221,
          205,
          190,
          195,
          220,
          210,
          195,
          180,
          190,
          195,
          185,
          185,
          222,
          238,
          247,
          249,
          175,
          240,
          275,
          185,
          200,
          230,
          223,
          165,
          175,
          275,
          200,
          190,
          250,
          180,
          225,
          170,
          190,
          303,
          190,
          165,
          175,
          230,
          220,
          175,
          185,
          225,
          220,
          245,
          170,
          207,
          190,
          236,
          190,
          225,
          225,
          215,
          195,
          240,
          145,
          238,
          245,
          235,
          180,
          235,
          245,
          255,
          198,
          185,
          210,
          221,
          230,
          190,
          185,
          238,
          240,
          205,
          230,
          175,
          185,
          195,
          215,
          195,
          240,
          175,
          220,
          185,
          225,
          170,
          200,
          165,
          210,
          235,
          225,
          238,
          192,
          200,
          230,
          200,
          210,
          190,
          190,
          175,
          208,
          175,
          225,
          260,
          248,
          179,
          220,
          200,
          175,
          217,
          200,
          245,
          220,
          200,
          190,
          240,
          220,
          230,
          216,
          222,
          250,
          190,
          175,
          245,
          165,
          225,
          218,
          210,
          170,
          230,
          190,
          225,
          230,
          228,
          185,
          241,
          210,
          null,
          225,
          225,
          180,
          175,
          215,
          230,
          175,
          220,
          220,
          195,
          185,
          219,
          225,
          170,
          245,
          190,
          205,
          280,
          170,
          209,
          255,
          209,
          222,
          185,
          190,
          228,
          200,
          170,
          160,
          257,
          260,
          174,
          180,
          160,
          175,
          185,
          185,
          207,
          205,
          226,
          325,
          215,
          210,
          250,
          175,
          195,
          250,
          225,
          245,
          245,
          250,
          220,
          215,
          205,
          240,
          190,
          255,
          241,
          252,
          275,
          249,
          210,
          255,
          225,
          215,
          175,
          185,
          210,
          210,
          180,
          205,
          195,
          160,
          269,
          220,
          238,
          255,
          245,
          190,
          195,
          175,
          225,
          255,
          210,
          210,
          215,
          280,
          165,
          240,
          220,
          205,
          210,
          210,
          195,
          190,
          200,
          220,
          245,
          210,
          200,
          225,
          210,
          185,
          215,
          224,
          240,
          220,
          270,
          180,
          165,
          205,
          240,
          180,
          175,
          210,
          195,
          205,
          180,
          195,
          224,
          215,
          222,
          240,
          225,
          175,
          219,
          200,
          230,
          205,
          215,
          250,
          190,
          200,
          185,
          185,
          174,
          210,
          235,
          235,
          220,
          165,
          175,
          230,
          215,
          170,
          195,
          220,
          185,
          238,
          230,
          225,
          230,
          224,
          225,
          220,
          175,
          200,
          175,
          219,
          185,
          235,
          220,
          200,
          200,
          185,
          174,
          237,
          185,
          195,
          240,
          185,
          180,
          190,
          185,
          165,
          170,
          232,
          220,
          230,
          208,
          190,
          307,
          220,
          225,
          185,
          185,
          245,
          220,
          270,
          240,
          270,
          235,
          190,
          240,
          200,
          210,
          220,
          150,
          190,
          200,
          220,
          195,
          232,
          235,
          205,
          210,
          220,
          185,
          218,
          190,
          247,
          195,
          260,
          205,
          185,
          205,
          195,
          175,
          181,
          180,
          195,
          225,
          189,
          175,
          210,
          215,
          220,
          235,
          205,
          200,
          215,
          185,
          195,
          245,
          230,
          230,
          240,
          210,
          220,
          308,
          195,
          256,
          250,
          245,
          249,
          215,
          260,
          248,
          180,
          185,
          265,
          200,
          220,
          233,
          220,
          220,
          235,
          220,
          235,
          218,
          220,
          170,
          198,
          195,
          205,
          230,
          200,
          240,
          215,
          215,
          220,
          280,
          240,
          220,
          240,
          225,
          215,
          215,
          235,
          238,
          170,
          195,
          185,
          175,
          170,
          210,
          183,
          181,
          165,
          195,
          170,
          200,
          190,
          190,
          190,
          185,
          212,
          220,
          180,
          204,
          170,
          255,
          190,
          210,
          245,
          200,
          170,
          210,
          195,
          215,
          185,
          235,
          220,
          220,
          190,
          190,
          205,
          225,
          227,
          250,
          235,
          160,
          250,
          210,
          205,
          185,
          190,
          183,
          213,
          275,
          200,
          190,
          165,
          235,
          185,
          250,
          205,
          240,
          260,
          220,
          170,
          185,
          205,
          250,
          220,
          195,
          230,
          225,
          190,
          215,
          190,
          230,
          190,
          215,
          180,
          175,
          235,
          175,
          210,
          257,
          190,
          220,
          195,
          190,
          188,
          215,
          240,
          205,
          220,
          235,
          275,
          199,
          180,
          210,
          190,
          250,
          247,
          210,
          205,
          232,
          255,
          165,
          230,
          185,
          185,
          170,
          250,
          195,
          225,
          195,
          200,
          230,
          170,
          225,
          215,
          206,
          270,
          195,
          220,
          185,
          200,
          205,
          189,
          190,
          180,
          223,
          215,
          225,
          215,
          215,
          195,
          175,
          180,
          215,
          200,
          210,
          225,
          235,
          245,
          205,
          195,
          195,
          200,
          200,
          185,
          260,
          200,
          170,
          185,
          175,
          190,
          210,
          180,
          231,
          215,
          185,
          210,
          173,
          218,
          214,
          240,
          200,
          285,
          185,
          205,
          190,
          195,
          230,
          210,
          200,
          220,
          225,
          235,
          210,
          185,
          225,
          222,
          210,
          212,
          180,
          180,
          180,
          180,
          200,
          195,
          190,
          237,
          225,
          217,
          175,
          230,
          235,
          185,
          170,
          155,
          185,
          185,
          210,
          176,
          220,
          220,
          195,
          225,
          190,
          235,
          235,
          185,
          195,
          195,
          168,
          185,
          235,
          175,
          186,
          219,
          250,
          190,
          210,
          250,
          180,
          165,
          190,
          185,
          205,
          195,
          206,
          255,
          212,
          215,
          180,
          205,
          195,
          200,
          225,
          250,
          195,
          220,
          215,
          210,
          200,
          155,
          245,
          190,
          194,
          265,
          180,
          230,
          228,
          205,
          246,
          185,
          225,
          220,
          240,
          220,
          165,
          240,
          220,
          215,
          215,
          225,
          215,
          218,
          195,
          180,
          190,
          180,
          195,
          170,
          279,
          240,
          270,
          240,
          175,
          230,
          210,
          220,
          231,
          230,
          245,
          214,
          235,
          228,
          260,
          195,
          240,
          200,
          225,
          235,
          210,
          210,
          210,
          215,
          256,
          190,
          215,
          223,
          225,
          200,
          210,
          186,
          185,
          220,
          175,
          210,
          205,
          225,
          195,
          241,
          185,
          208,
          170,
          185,
          175,
          200,
          195,
          173,
          200,
          205,
          235,
          220,
          175,
          250,
          240,
          205,
          255,
          212,
          260,
          225,
          185,
          200,
          210,
          220,
          230,
          214,
          172,
          200,
          192,
          185,
          210,
          240,
          180,
          185,
          250,
          195,
          175,
          229,
          180,
          237,
          215,
          250,
          210,
          230,
          188,
          210,
          210,
          190,
          210,
          198,
          190,
          220,
          230,
          196,
          183,
          230,
          210,
          195,
          165,
          175,
          180,
          190,
          230,
          179,
          285,
          225,
          190,
          305,
          185,
          180,
          180,
          190,
          225,
          185,
          220,
          190,
          169,
          170,
          175,
          235,
          175,
          245,
          235,
          200,
          190,
          260,
          194,
          165,
          210,
          240,
          217,
          160,
          190,
          215,
          170,
          200,
          230,
          200,
          210,
          200,
          190,
          170,
          235,
          220,
          190,
          230,
          215,
          175,
          168,
          215,
          190,
          230,
          230,
          180,
          220,
          205,
          305,
          225,
          255,
          230,
          210,
          235,
          222,
          190,
          184,
          195,
          166,
          210,
          202,
          200,
          248,
          200,
          235,
          220,
          245,
          195,
          248,
          170,
          228,
          185,
          230,
          216,
          175,
          165,
          210,
          185,
          180,
          190,
          255,
          195,
          180,
          220,
          215,
          210,
          205,
          215,
          205,
          195,
          238,
          200,
          175,
          220,
          195,
          190,
          180,
          185,
          190,
          195,
          190,
          230,
          160,
          194,
          190,
          200,
          210,
          250,
          180,
          195,
          205,
          190,
          160,
          215,
          220,
          180,
          250,
          235,
          195,
          250,
          175,
          225,
          250,
          245,
          190,
          225,
          225,
          235,
          225,
          180,
          185,
          170,
          200,
          215,
          235,
          225,
          230,
          195,
          185,
          210,
          205,
          185,
          180,
          240,
          165,
          165,
          230,
          200,
          200,
          235,
          208,
          225,
          185,
          220,
          170,
          250,
          250,
          215,
          200,
          190,
          207,
          225,
          180,
          198,
          185,
          225,
          225,
          185,
          170,
          248,
          225,
          215,
          175,
          250,
          225,
          190,
          195,
          200,
          218,
          175,
          205,
          200,
          255,
          210,
          270,
          265,
          195,
          225,
          245,
          220,
          188,
          190,
          230,
          235,
          225,
          215,
          218,
          185,
          195,
          190,
          200,
          185,
          170,
          180,
          190,
          205,
          205,
          180,
          225,
          236,
          188,
          175,
          185,
          210,
          230,
          270,
          195,
          195,
          185,
          210,
          220,
          239,
          220,
          230,
          205,
          260,
          245,
          208,
          185,
          210,
          220,
          165,
          170,
          220,
          264,
          220,
          263,
          232,
          180,
          235,
          255,
          195,
          200,
          222,
          171,
          179,
          245,
          215,
          201,
          235,
          210,
          210,
          210,
          175,
          200,
          260,
          220,
          190,
          215,
          160,
          210,
          185,
          170,
          225,
          260,
          230,
          215,
          180,
          220,
          170,
          200,
          210,
          235,
          190,
          170,
          235,
          220,
          250,
          210,
          215,
          275,
          245,
          204,
          225,
          230,
          225,
          175,
          255,
          230,
          244,
          210,
          245,
          165,
          260,
          160,
          260,
          230,
          195,
          185,
          205,
          260,
          175,
          185,
          180,
          175,
          180,
          170,
          190,
          175,
          225,
          210,
          220,
          220,
          260,
          165,
          194,
          265,
          185,
          180,
          195,
          186,
          189,
          242,
          165,
          220,
          195,
          196,
          200,
          210,
          215,
          195,
          185,
          263,
          170,
          170,
          215,
          190,
          210,
          215,
          160,
          195,
          200,
          208,
          175,
          175,
          256,
          225,
          185,
          180,
          215,
          235,
          190,
          205,
          265,
          261,
          230,
          235,
          225,
          215,
          220,
          230,
          215,
          185,
          245,
          210,
          195,
          193,
          225,
          195,
          195,
          200,
          206,
          185,
          250,
          225,
          260,
          215,
          245,
          226,
          211,
          210,
          185,
          238,
          230,
          195,
          220,
          225,
          190,
          205,
          212,
          225,
          175,
          225,
          175,
          190,
          185,
          215,
          205,
          205,
          195,
          240,
          260,
          220,
          225,
          235,
          240,
          190,
          218,
          178,
          178,
          185,
          210,
          215,
          210,
          192,
          230,
          210,
          175,
          185,
          197,
          150,
          250,
          210,
          190,
          244,
          175,
          205,
          210,
          284,
          250,
          200,
          215,
          170,
          220,
          215,
          240,
          285,
          206,
          190,
          225,
          190,
          205,
          220,
          185,
          245,
          193,
          249,
          236,
          220,
          160,
          220,
          190,
          220,
          200,
          200,
          195,
          170,
          200,
          230,
          245,
          243,
          190,
          240,
          175,
          210,
          185,
          260,
          215,
          230,
          204,
          240,
          215,
          205,
          183,
          150,
          245,
          185,
          180,
          221,
          205,
          185,
          265,
          183,
          212,
          210,
          185,
          210,
          202,
          185,
          195,
          170,
          220,
          173,
          210,
          195,
          215,
          195,
          220,
          255,
          200,
          195,
          260,
          273,
          230,
          217,
          190,
          220,
          240,
          190,
          202,
          205,
          230,
          190,
          215,
          240,
          195,
          215,
          232,
          220,
          185,
          225,
          190,
          195,
          240,
          205,
          218,
          170,
          240,
          245,
          210,
          275,
          260,
          220,
          220,
          260,
          195,
          220,
          160,
          210,
          210,
          200,
          170,
          185,
          190,
          225,
          225,
          175,
          220,
          190,
          224,
          205,
          212,
          180,
          184,
          220,
          210,
          195,
          172,
          210,
          180,
          240,
          190,
          195,
          240,
          215,
          225,
          225,
          185,
          220,
          215,
          220,
          195,
          205,
          190,
          160,
          163,
          210,
          189,
          160,
          235,
          170,
          165,
          190,
          195,
          195,
          175,
          210,
          200,
          200,
          220,
          190,
          180,
          230,
          203,
          195,
          219,
          225,
          175,
          195,
          210,
          195,
          190,
          210,
          230,
          190,
          220,
          190,
          215,
          227,
          258,
          160,
          175,
          195,
          190,
          210,
          185,
          175,
          200,
          230,
          230,
          240,
          195,
          201,
          170,
          255,
          133,
          245,
          165,
          225,
          190,
          232,
          230,
          225,
          215,
          205,
          180,
          230,
          180,
          175,
          210,
          230,
          200,
          180,
          245,
          208,
          245,
          250,
          250,
          null,
          190,
          220,
          250,
          180,
          200,
          175,
          210,
          230,
          178,
          190,
          200,
          195,
          190,
          260,
          177,
          165,
          185,
          165,
          180,
          251,
          190,
          200,
          195,
          205,
          290,
          200,
          190,
          204,
          240,
          238,
          210,
          270,
          195,
          170,
          195,
          213,
          220,
          160,
          265,
          240,
          168,
          230,
          235,
          250,
          225,
          210,
          155,
          215,
          199,
          185,
          195,
          195,
          221,
          165,
          210,
          215,
          200,
          185,
          185,
          180,
          195,
          190,
          195,
          225,
          200,
          220,
          185,
          230,
          220,
          185,
          220,
          200,
          260,
          185,
          180,
          175,
          230,
          215,
          215,
          225,
          165,
          175,
          180,
          180,
          190,
          200,
          240,
          180,
          230,
          190,
          220,
          200,
          212,
          190,
          235,
          175,
          200,
          210,
          242,
          215,
          190,
          218,
          195,
          240,
          206,
          235,
          260,
          225,
          205,
          175,
          200,
          175,
          205,
          205,
          237,
          210,
          175,
          255,
          182,
          198,
          225,
          215,
          190,
          188,
          190,
          205,
          175,
          175,
          188,
          180,
          210,
          230,
          235,
          201,
          225,
          250,
          210,
          220,
          215,
          218,
          219,
          195,
          200,
          245,
          185,
          195,
          220,
          205,
          180,
          185,
          215,
          175,
          175,
          234,
          225,
          175,
          230,
          200,
          175,
          175,
          200,
          190,
          200,
          195,
          185,
          210,
          240,
          210,
          160,
          215,
          174,
          185,
          256,
          210,
          164,
          225,
          225,
          275,
          185,
          200,
          170,
          210,
          231,
          235,
          210,
          210,
          190,
          185,
          230,
          270,
          190,
          193,
          null,
          220,
          227,
          235,
          185,
          245,
          221,
          185,
          210,
          195,
          225,
          215,
          180,
          215,
          218,
          260,
          175,
          195,
          225,
          210,
          210,
          225,
          210,
          226,
          210,
          183,
          205,
          220,
          185,
          220,
          225,
          160,
          215,
          205,
          225,
          270,
          260,
          205,
          215,
          180,
          260,
          210,
          190,
          215,
          235,
          190,
          220,
          175,
          215,
          180,
          213,
          220,
          210,
          210,
          220,
          221,
          220,
          205,
          170,
          215,
          240,
          175,
          205,
          210,
          245,
          253,
          210,
          230,
          255,
          250,
          195,
          240,
          215,
          250,
          240,
          170,
          265,
          195
         ],
         "xaxis": "x",
         "yaxis": "y"
        }
       ],
       "layout": {
        "barmode": "relative",
        "legend": {
         "title": {
          "text": "variable"
         },
         "tracegroupgap": 0
        },
        "template": {
         "data": {
          "bar": [
           {
            "error_x": {
             "color": "#2a3f5f"
            },
            "error_y": {
             "color": "#2a3f5f"
            },
            "marker": {
             "line": {
              "color": "#E5ECF6",
              "width": 0.5
             },
             "pattern": {
              "fillmode": "overlay",
              "size": 10,
              "solidity": 0.2
             }
            },
            "type": "bar"
           }
          ],
          "barpolar": [
           {
            "marker": {
             "line": {
              "color": "#E5ECF6",
              "width": 0.5
             },
             "pattern": {
              "fillmode": "overlay",
              "size": 10,
              "solidity": 0.2
             }
            },
            "type": "barpolar"
           }
          ],
          "carpet": [
           {
            "aaxis": {
             "endlinecolor": "#2a3f5f",
             "gridcolor": "white",
             "linecolor": "white",
             "minorgridcolor": "white",
             "startlinecolor": "#2a3f5f"
            },
            "baxis": {
             "endlinecolor": "#2a3f5f",
             "gridcolor": "white",
             "linecolor": "white",
             "minorgridcolor": "white",
             "startlinecolor": "#2a3f5f"
            },
            "type": "carpet"
           }
          ],
          "choropleth": [
           {
            "colorbar": {
             "outlinewidth": 0,
             "ticks": ""
            },
            "type": "choropleth"
           }
          ],
          "contour": [
           {
            "colorbar": {
             "outlinewidth": 0,
             "ticks": ""
            },
            "colorscale": [
             [
              0,
              "#0d0887"
             ],
             [
              0.1111111111111111,
              "#46039f"
             ],
             [
              0.2222222222222222,
              "#7201a8"
             ],
             [
              0.3333333333333333,
              "#9c179e"
             ],
             [
              0.4444444444444444,
              "#bd3786"
             ],
             [
              0.5555555555555556,
              "#d8576b"
             ],
             [
              0.6666666666666666,
              "#ed7953"
             ],
             [
              0.7777777777777778,
              "#fb9f3a"
             ],
             [
              0.8888888888888888,
              "#fdca26"
             ],
             [
              1,
              "#f0f921"
             ]
            ],
            "type": "contour"
           }
          ],
          "contourcarpet": [
           {
            "colorbar": {
             "outlinewidth": 0,
             "ticks": ""
            },
            "type": "contourcarpet"
           }
          ],
          "heatmap": [
           {
            "colorbar": {
             "outlinewidth": 0,
             "ticks": ""
            },
            "colorscale": [
             [
              0,
              "#0d0887"
             ],
             [
              0.1111111111111111,
              "#46039f"
             ],
             [
              0.2222222222222222,
              "#7201a8"
             ],
             [
              0.3333333333333333,
              "#9c179e"
             ],
             [
              0.4444444444444444,
              "#bd3786"
             ],
             [
              0.5555555555555556,
              "#d8576b"
             ],
             [
              0.6666666666666666,
              "#ed7953"
             ],
             [
              0.7777777777777778,
              "#fb9f3a"
             ],
             [
              0.8888888888888888,
              "#fdca26"
             ],
             [
              1,
              "#f0f921"
             ]
            ],
            "type": "heatmap"
           }
          ],
          "heatmapgl": [
           {
            "colorbar": {
             "outlinewidth": 0,
             "ticks": ""
            },
            "colorscale": [
             [
              0,
              "#0d0887"
             ],
             [
              0.1111111111111111,
              "#46039f"
             ],
             [
              0.2222222222222222,
              "#7201a8"
             ],
             [
              0.3333333333333333,
              "#9c179e"
             ],
             [
              0.4444444444444444,
              "#bd3786"
             ],
             [
              0.5555555555555556,
              "#d8576b"
             ],
             [
              0.6666666666666666,
              "#ed7953"
             ],
             [
              0.7777777777777778,
              "#fb9f3a"
             ],
             [
              0.8888888888888888,
              "#fdca26"
             ],
             [
              1,
              "#f0f921"
             ]
            ],
            "type": "heatmapgl"
           }
          ],
          "histogram": [
           {
            "marker": {
             "pattern": {
              "fillmode": "overlay",
              "size": 10,
              "solidity": 0.2
             }
            },
            "type": "histogram"
           }
          ],
          "histogram2d": [
           {
            "colorbar": {
             "outlinewidth": 0,
             "ticks": ""
            },
            "colorscale": [
             [
              0,
              "#0d0887"
             ],
             [
              0.1111111111111111,
              "#46039f"
             ],
             [
              0.2222222222222222,
              "#7201a8"
             ],
             [
              0.3333333333333333,
              "#9c179e"
             ],
             [
              0.4444444444444444,
              "#bd3786"
             ],
             [
              0.5555555555555556,
              "#d8576b"
             ],
             [
              0.6666666666666666,
              "#ed7953"
             ],
             [
              0.7777777777777778,
              "#fb9f3a"
             ],
             [
              0.8888888888888888,
              "#fdca26"
             ],
             [
              1,
              "#f0f921"
             ]
            ],
            "type": "histogram2d"
           }
          ],
          "histogram2dcontour": [
           {
            "colorbar": {
             "outlinewidth": 0,
             "ticks": ""
            },
            "colorscale": [
             [
              0,
              "#0d0887"
             ],
             [
              0.1111111111111111,
              "#46039f"
             ],
             [
              0.2222222222222222,
              "#7201a8"
             ],
             [
              0.3333333333333333,
              "#9c179e"
             ],
             [
              0.4444444444444444,
              "#bd3786"
             ],
             [
              0.5555555555555556,
              "#d8576b"
             ],
             [
              0.6666666666666666,
              "#ed7953"
             ],
             [
              0.7777777777777778,
              "#fb9f3a"
             ],
             [
              0.8888888888888888,
              "#fdca26"
             ],
             [
              1,
              "#f0f921"
             ]
            ],
            "type": "histogram2dcontour"
           }
          ],
          "mesh3d": [
           {
            "colorbar": {
             "outlinewidth": 0,
             "ticks": ""
            },
            "type": "mesh3d"
           }
          ],
          "parcoords": [
           {
            "line": {
             "colorbar": {
              "outlinewidth": 0,
              "ticks": ""
             }
            },
            "type": "parcoords"
           }
          ],
          "pie": [
           {
            "automargin": true,
            "type": "pie"
           }
          ],
          "scatter": [
           {
            "fillpattern": {
             "fillmode": "overlay",
             "size": 10,
             "solidity": 0.2
            },
            "type": "scatter"
           }
          ],
          "scatter3d": [
           {
            "line": {
             "colorbar": {
              "outlinewidth": 0,
              "ticks": ""
             }
            },
            "marker": {
             "colorbar": {
              "outlinewidth": 0,
              "ticks": ""
             }
            },
            "type": "scatter3d"
           }
          ],
          "scattercarpet": [
           {
            "marker": {
             "colorbar": {
              "outlinewidth": 0,
              "ticks": ""
             }
            },
            "type": "scattercarpet"
           }
          ],
          "scattergeo": [
           {
            "marker": {
             "colorbar": {
              "outlinewidth": 0,
              "ticks": ""
             }
            },
            "type": "scattergeo"
           }
          ],
          "scattergl": [
           {
            "marker": {
             "colorbar": {
              "outlinewidth": 0,
              "ticks": ""
             }
            },
            "type": "scattergl"
           }
          ],
          "scattermapbox": [
           {
            "marker": {
             "colorbar": {
              "outlinewidth": 0,
              "ticks": ""
             }
            },
            "type": "scattermapbox"
           }
          ],
          "scatterpolar": [
           {
            "marker": {
             "colorbar": {
              "outlinewidth": 0,
              "ticks": ""
             }
            },
            "type": "scatterpolar"
           }
          ],
          "scatterpolargl": [
           {
            "marker": {
             "colorbar": {
              "outlinewidth": 0,
              "ticks": ""
             }
            },
            "type": "scatterpolargl"
           }
          ],
          "scatterternary": [
           {
            "marker": {
             "colorbar": {
              "outlinewidth": 0,
              "ticks": ""
             }
            },
            "type": "scatterternary"
           }
          ],
          "surface": [
           {
            "colorbar": {
             "outlinewidth": 0,
             "ticks": ""
            },
            "colorscale": [
             [
              0,
              "#0d0887"
             ],
             [
              0.1111111111111111,
              "#46039f"
             ],
             [
              0.2222222222222222,
              "#7201a8"
             ],
             [
              0.3333333333333333,
              "#9c179e"
             ],
             [
              0.4444444444444444,
              "#bd3786"
             ],
             [
              0.5555555555555556,
              "#d8576b"
             ],
             [
              0.6666666666666666,
              "#ed7953"
             ],
             [
              0.7777777777777778,
              "#fb9f3a"
             ],
             [
              0.8888888888888888,
              "#fdca26"
             ],
             [
              1,
              "#f0f921"
             ]
            ],
            "type": "surface"
           }
          ],
          "table": [
           {
            "cells": {
             "fill": {
              "color": "#EBF0F8"
             },
             "line": {
              "color": "white"
             }
            },
            "header": {
             "fill": {
              "color": "#C8D4E3"
             },
             "line": {
              "color": "white"
             }
            },
            "type": "table"
           }
          ]
         },
         "layout": {
          "annotationdefaults": {
           "arrowcolor": "#2a3f5f",
           "arrowhead": 0,
           "arrowwidth": 1
          },
          "autotypenumbers": "strict",
          "coloraxis": {
           "colorbar": {
            "outlinewidth": 0,
            "ticks": ""
           }
          },
          "colorscale": {
           "diverging": [
            [
             0,
             "#8e0152"
            ],
            [
             0.1,
             "#c51b7d"
            ],
            [
             0.2,
             "#de77ae"
            ],
            [
             0.3,
             "#f1b6da"
            ],
            [
             0.4,
             "#fde0ef"
            ],
            [
             0.5,
             "#f7f7f7"
            ],
            [
             0.6,
             "#e6f5d0"
            ],
            [
             0.7,
             "#b8e186"
            ],
            [
             0.8,
             "#7fbc41"
            ],
            [
             0.9,
             "#4d9221"
            ],
            [
             1,
             "#276419"
            ]
           ],
           "sequential": [
            [
             0,
             "#0d0887"
            ],
            [
             0.1111111111111111,
             "#46039f"
            ],
            [
             0.2222222222222222,
             "#7201a8"
            ],
            [
             0.3333333333333333,
             "#9c179e"
            ],
            [
             0.4444444444444444,
             "#bd3786"
            ],
            [
             0.5555555555555556,
             "#d8576b"
            ],
            [
             0.6666666666666666,
             "#ed7953"
            ],
            [
             0.7777777777777778,
             "#fb9f3a"
            ],
            [
             0.8888888888888888,
             "#fdca26"
            ],
            [
             1,
             "#f0f921"
            ]
           ],
           "sequentialminus": [
            [
             0,
             "#0d0887"
            ],
            [
             0.1111111111111111,
             "#46039f"
            ],
            [
             0.2222222222222222,
             "#7201a8"
            ],
            [
             0.3333333333333333,
             "#9c179e"
            ],
            [
             0.4444444444444444,
             "#bd3786"
            ],
            [
             0.5555555555555556,
             "#d8576b"
            ],
            [
             0.6666666666666666,
             "#ed7953"
            ],
            [
             0.7777777777777778,
             "#fb9f3a"
            ],
            [
             0.8888888888888888,
             "#fdca26"
            ],
            [
             1,
             "#f0f921"
            ]
           ]
          },
          "colorway": [
           "#636efa",
           "#EF553B",
           "#00cc96",
           "#ab63fa",
           "#FFA15A",
           "#19d3f3",
           "#FF6692",
           "#B6E880",
           "#FF97FF",
           "#FECB52"
          ],
          "font": {
           "color": "#2a3f5f"
          },
          "geo": {
           "bgcolor": "white",
           "lakecolor": "white",
           "landcolor": "#E5ECF6",
           "showlakes": true,
           "showland": true,
           "subunitcolor": "white"
          },
          "hoverlabel": {
           "align": "left"
          },
          "hovermode": "closest",
          "mapbox": {
           "style": "light"
          },
          "paper_bgcolor": "white",
          "plot_bgcolor": "#E5ECF6",
          "polar": {
           "angularaxis": {
            "gridcolor": "white",
            "linecolor": "white",
            "ticks": ""
           },
           "bgcolor": "#E5ECF6",
           "radialaxis": {
            "gridcolor": "white",
            "linecolor": "white",
            "ticks": ""
           }
          },
          "scene": {
           "xaxis": {
            "backgroundcolor": "#E5ECF6",
            "gridcolor": "white",
            "gridwidth": 2,
            "linecolor": "white",
            "showbackground": true,
            "ticks": "",
            "zerolinecolor": "white"
           },
           "yaxis": {
            "backgroundcolor": "#E5ECF6",
            "gridcolor": "white",
            "gridwidth": 2,
            "linecolor": "white",
            "showbackground": true,
            "ticks": "",
            "zerolinecolor": "white"
           },
           "zaxis": {
            "backgroundcolor": "#E5ECF6",
            "gridcolor": "white",
            "gridwidth": 2,
            "linecolor": "white",
            "showbackground": true,
            "ticks": "",
            "zerolinecolor": "white"
           }
          },
          "shapedefaults": {
           "line": {
            "color": "#2a3f5f"
           }
          },
          "ternary": {
           "aaxis": {
            "gridcolor": "white",
            "linecolor": "white",
            "ticks": ""
           },
           "baxis": {
            "gridcolor": "white",
            "linecolor": "white",
            "ticks": ""
           },
           "bgcolor": "#E5ECF6",
           "caxis": {
            "gridcolor": "white",
            "linecolor": "white",
            "ticks": ""
           }
          },
          "title": {
           "x": 0.05
          },
          "xaxis": {
           "automargin": true,
           "gridcolor": "white",
           "linecolor": "white",
           "ticks": "",
           "title": {
            "standoff": 15
           },
           "zerolinecolor": "white",
           "zerolinewidth": 2
          },
          "yaxis": {
           "automargin": true,
           "gridcolor": "white",
           "linecolor": "white",
           "ticks": "",
           "title": {
            "standoff": 15
           },
           "zerolinecolor": "white",
           "zerolinewidth": 2
          }
         }
        },
        "title": {
         "text": "Weight distribution of NBA players since 1950 (lb)"
        },
        "xaxis": {
         "anchor": "y",
         "domain": [
          0,
          1
         ],
         "title": {
          "text": "value"
         }
        },
        "yaxis": {
         "anchor": "x",
         "domain": [
          0,
          1
         ],
         "title": {
          "text": "count"
         }
        }
       }
      }
     },
     "metadata": {},
     "output_type": "display_data"
    }
   ],
   "source": [
    "fig = df.weight.hist(nbins=25, title= 'Weight distribution of NBA players since 1950 (lb)')\n",
    "fig.update_traces(cavs)\n",
    "fig.show()"
   ]
  },
  {
   "cell_type": "code",
   "execution_count": null,
   "metadata": {},
   "outputs": [],
   "source": []
  },
  {
   "cell_type": "code",
   "execution_count": null,
   "metadata": {},
   "outputs": [],
   "source": []
  },
  {
   "cell_type": "code",
   "execution_count": null,
   "metadata": {},
   "outputs": [],
   "source": []
  },
  {
   "cell_type": "code",
   "execution_count": 6,
   "metadata": {},
   "outputs": [
    {
     "data": {
      "text/plain": [
       "University of Kentucky                     99\n",
       "University of California, Los Angeles      91\n",
       "University of North Carolina               87\n",
       "University of Kansas                       72\n",
       "Duke University                            71\n",
       "                                           ..\n",
       "University of Tampa                         1\n",
       "University of the District of Columbia      1\n",
       "Assumption College                          1\n",
       "University of California, Riverside         1\n",
       "Northeast Mississippi Community College     1\n",
       "Name: college, Length: 473, dtype: int64"
      ]
     },
     "execution_count": 6,
     "metadata": {},
     "output_type": "execute_result"
    }
   ],
   "source": [
    "df.college.value_counts()"
   ]
  },
  {
   "cell_type": "code",
   "execution_count": 7,
   "metadata": {},
   "outputs": [
    {
     "data": {
      "application/vnd.plotly.v1+json": {
       "config": {
        "plotlyServerURL": "https://plot.ly"
       },
       "data": [
        {
         "alignmentgroup": "True",
         "hovertemplate": "variable=position<br>index=%{x}<br>value=%{y}<extra></extra>",
         "legendgroup": "position",
         "marker": {
          "color": "#FDBB30",
          "line": {
           "color": "#860038",
           "width": 3
          },
          "pattern": {
           "shape": ""
          }
         },
         "name": "position",
         "offsetgroup": "position",
         "orientation": "v",
         "showlegend": true,
         "textposition": "auto",
         "type": "bar",
         "x": [
          "G",
          "F",
          "C",
          "F-C",
          "G-F",
          "C-F",
          "F-G"
         ],
         "xaxis": "x",
         "y": [
          1574,
          1290,
          502,
          388,
          360,
          219,
          216
         ],
         "yaxis": "y"
        }
       ],
       "layout": {
        "barmode": "relative",
        "legend": {
         "title": {
          "text": "variable"
         },
         "tracegroupgap": 0
        },
        "template": {
         "data": {
          "bar": [
           {
            "error_x": {
             "color": "#2a3f5f"
            },
            "error_y": {
             "color": "#2a3f5f"
            },
            "marker": {
             "line": {
              "color": "#E5ECF6",
              "width": 0.5
             },
             "pattern": {
              "fillmode": "overlay",
              "size": 10,
              "solidity": 0.2
             }
            },
            "type": "bar"
           }
          ],
          "barpolar": [
           {
            "marker": {
             "line": {
              "color": "#E5ECF6",
              "width": 0.5
             },
             "pattern": {
              "fillmode": "overlay",
              "size": 10,
              "solidity": 0.2
             }
            },
            "type": "barpolar"
           }
          ],
          "carpet": [
           {
            "aaxis": {
             "endlinecolor": "#2a3f5f",
             "gridcolor": "white",
             "linecolor": "white",
             "minorgridcolor": "white",
             "startlinecolor": "#2a3f5f"
            },
            "baxis": {
             "endlinecolor": "#2a3f5f",
             "gridcolor": "white",
             "linecolor": "white",
             "minorgridcolor": "white",
             "startlinecolor": "#2a3f5f"
            },
            "type": "carpet"
           }
          ],
          "choropleth": [
           {
            "colorbar": {
             "outlinewidth": 0,
             "ticks": ""
            },
            "type": "choropleth"
           }
          ],
          "contour": [
           {
            "colorbar": {
             "outlinewidth": 0,
             "ticks": ""
            },
            "colorscale": [
             [
              0,
              "#0d0887"
             ],
             [
              0.1111111111111111,
              "#46039f"
             ],
             [
              0.2222222222222222,
              "#7201a8"
             ],
             [
              0.3333333333333333,
              "#9c179e"
             ],
             [
              0.4444444444444444,
              "#bd3786"
             ],
             [
              0.5555555555555556,
              "#d8576b"
             ],
             [
              0.6666666666666666,
              "#ed7953"
             ],
             [
              0.7777777777777778,
              "#fb9f3a"
             ],
             [
              0.8888888888888888,
              "#fdca26"
             ],
             [
              1,
              "#f0f921"
             ]
            ],
            "type": "contour"
           }
          ],
          "contourcarpet": [
           {
            "colorbar": {
             "outlinewidth": 0,
             "ticks": ""
            },
            "type": "contourcarpet"
           }
          ],
          "heatmap": [
           {
            "colorbar": {
             "outlinewidth": 0,
             "ticks": ""
            },
            "colorscale": [
             [
              0,
              "#0d0887"
             ],
             [
              0.1111111111111111,
              "#46039f"
             ],
             [
              0.2222222222222222,
              "#7201a8"
             ],
             [
              0.3333333333333333,
              "#9c179e"
             ],
             [
              0.4444444444444444,
              "#bd3786"
             ],
             [
              0.5555555555555556,
              "#d8576b"
             ],
             [
              0.6666666666666666,
              "#ed7953"
             ],
             [
              0.7777777777777778,
              "#fb9f3a"
             ],
             [
              0.8888888888888888,
              "#fdca26"
             ],
             [
              1,
              "#f0f921"
             ]
            ],
            "type": "heatmap"
           }
          ],
          "heatmapgl": [
           {
            "colorbar": {
             "outlinewidth": 0,
             "ticks": ""
            },
            "colorscale": [
             [
              0,
              "#0d0887"
             ],
             [
              0.1111111111111111,
              "#46039f"
             ],
             [
              0.2222222222222222,
              "#7201a8"
             ],
             [
              0.3333333333333333,
              "#9c179e"
             ],
             [
              0.4444444444444444,
              "#bd3786"
             ],
             [
              0.5555555555555556,
              "#d8576b"
             ],
             [
              0.6666666666666666,
              "#ed7953"
             ],
             [
              0.7777777777777778,
              "#fb9f3a"
             ],
             [
              0.8888888888888888,
              "#fdca26"
             ],
             [
              1,
              "#f0f921"
             ]
            ],
            "type": "heatmapgl"
           }
          ],
          "histogram": [
           {
            "marker": {
             "pattern": {
              "fillmode": "overlay",
              "size": 10,
              "solidity": 0.2
             }
            },
            "type": "histogram"
           }
          ],
          "histogram2d": [
           {
            "colorbar": {
             "outlinewidth": 0,
             "ticks": ""
            },
            "colorscale": [
             [
              0,
              "#0d0887"
             ],
             [
              0.1111111111111111,
              "#46039f"
             ],
             [
              0.2222222222222222,
              "#7201a8"
             ],
             [
              0.3333333333333333,
              "#9c179e"
             ],
             [
              0.4444444444444444,
              "#bd3786"
             ],
             [
              0.5555555555555556,
              "#d8576b"
             ],
             [
              0.6666666666666666,
              "#ed7953"
             ],
             [
              0.7777777777777778,
              "#fb9f3a"
             ],
             [
              0.8888888888888888,
              "#fdca26"
             ],
             [
              1,
              "#f0f921"
             ]
            ],
            "type": "histogram2d"
           }
          ],
          "histogram2dcontour": [
           {
            "colorbar": {
             "outlinewidth": 0,
             "ticks": ""
            },
            "colorscale": [
             [
              0,
              "#0d0887"
             ],
             [
              0.1111111111111111,
              "#46039f"
             ],
             [
              0.2222222222222222,
              "#7201a8"
             ],
             [
              0.3333333333333333,
              "#9c179e"
             ],
             [
              0.4444444444444444,
              "#bd3786"
             ],
             [
              0.5555555555555556,
              "#d8576b"
             ],
             [
              0.6666666666666666,
              "#ed7953"
             ],
             [
              0.7777777777777778,
              "#fb9f3a"
             ],
             [
              0.8888888888888888,
              "#fdca26"
             ],
             [
              1,
              "#f0f921"
             ]
            ],
            "type": "histogram2dcontour"
           }
          ],
          "mesh3d": [
           {
            "colorbar": {
             "outlinewidth": 0,
             "ticks": ""
            },
            "type": "mesh3d"
           }
          ],
          "parcoords": [
           {
            "line": {
             "colorbar": {
              "outlinewidth": 0,
              "ticks": ""
             }
            },
            "type": "parcoords"
           }
          ],
          "pie": [
           {
            "automargin": true,
            "type": "pie"
           }
          ],
          "scatter": [
           {
            "fillpattern": {
             "fillmode": "overlay",
             "size": 10,
             "solidity": 0.2
            },
            "type": "scatter"
           }
          ],
          "scatter3d": [
           {
            "line": {
             "colorbar": {
              "outlinewidth": 0,
              "ticks": ""
             }
            },
            "marker": {
             "colorbar": {
              "outlinewidth": 0,
              "ticks": ""
             }
            },
            "type": "scatter3d"
           }
          ],
          "scattercarpet": [
           {
            "marker": {
             "colorbar": {
              "outlinewidth": 0,
              "ticks": ""
             }
            },
            "type": "scattercarpet"
           }
          ],
          "scattergeo": [
           {
            "marker": {
             "colorbar": {
              "outlinewidth": 0,
              "ticks": ""
             }
            },
            "type": "scattergeo"
           }
          ],
          "scattergl": [
           {
            "marker": {
             "colorbar": {
              "outlinewidth": 0,
              "ticks": ""
             }
            },
            "type": "scattergl"
           }
          ],
          "scattermapbox": [
           {
            "marker": {
             "colorbar": {
              "outlinewidth": 0,
              "ticks": ""
             }
            },
            "type": "scattermapbox"
           }
          ],
          "scatterpolar": [
           {
            "marker": {
             "colorbar": {
              "outlinewidth": 0,
              "ticks": ""
             }
            },
            "type": "scatterpolar"
           }
          ],
          "scatterpolargl": [
           {
            "marker": {
             "colorbar": {
              "outlinewidth": 0,
              "ticks": ""
             }
            },
            "type": "scatterpolargl"
           }
          ],
          "scatterternary": [
           {
            "marker": {
             "colorbar": {
              "outlinewidth": 0,
              "ticks": ""
             }
            },
            "type": "scatterternary"
           }
          ],
          "surface": [
           {
            "colorbar": {
             "outlinewidth": 0,
             "ticks": ""
            },
            "colorscale": [
             [
              0,
              "#0d0887"
             ],
             [
              0.1111111111111111,
              "#46039f"
             ],
             [
              0.2222222222222222,
              "#7201a8"
             ],
             [
              0.3333333333333333,
              "#9c179e"
             ],
             [
              0.4444444444444444,
              "#bd3786"
             ],
             [
              0.5555555555555556,
              "#d8576b"
             ],
             [
              0.6666666666666666,
              "#ed7953"
             ],
             [
              0.7777777777777778,
              "#fb9f3a"
             ],
             [
              0.8888888888888888,
              "#fdca26"
             ],
             [
              1,
              "#f0f921"
             ]
            ],
            "type": "surface"
           }
          ],
          "table": [
           {
            "cells": {
             "fill": {
              "color": "#EBF0F8"
             },
             "line": {
              "color": "white"
             }
            },
            "header": {
             "fill": {
              "color": "#C8D4E3"
             },
             "line": {
              "color": "white"
             }
            },
            "type": "table"
           }
          ]
         },
         "layout": {
          "annotationdefaults": {
           "arrowcolor": "#2a3f5f",
           "arrowhead": 0,
           "arrowwidth": 1
          },
          "autotypenumbers": "strict",
          "coloraxis": {
           "colorbar": {
            "outlinewidth": 0,
            "ticks": ""
           }
          },
          "colorscale": {
           "diverging": [
            [
             0,
             "#8e0152"
            ],
            [
             0.1,
             "#c51b7d"
            ],
            [
             0.2,
             "#de77ae"
            ],
            [
             0.3,
             "#f1b6da"
            ],
            [
             0.4,
             "#fde0ef"
            ],
            [
             0.5,
             "#f7f7f7"
            ],
            [
             0.6,
             "#e6f5d0"
            ],
            [
             0.7,
             "#b8e186"
            ],
            [
             0.8,
             "#7fbc41"
            ],
            [
             0.9,
             "#4d9221"
            ],
            [
             1,
             "#276419"
            ]
           ],
           "sequential": [
            [
             0,
             "#0d0887"
            ],
            [
             0.1111111111111111,
             "#46039f"
            ],
            [
             0.2222222222222222,
             "#7201a8"
            ],
            [
             0.3333333333333333,
             "#9c179e"
            ],
            [
             0.4444444444444444,
             "#bd3786"
            ],
            [
             0.5555555555555556,
             "#d8576b"
            ],
            [
             0.6666666666666666,
             "#ed7953"
            ],
            [
             0.7777777777777778,
             "#fb9f3a"
            ],
            [
             0.8888888888888888,
             "#fdca26"
            ],
            [
             1,
             "#f0f921"
            ]
           ],
           "sequentialminus": [
            [
             0,
             "#0d0887"
            ],
            [
             0.1111111111111111,
             "#46039f"
            ],
            [
             0.2222222222222222,
             "#7201a8"
            ],
            [
             0.3333333333333333,
             "#9c179e"
            ],
            [
             0.4444444444444444,
             "#bd3786"
            ],
            [
             0.5555555555555556,
             "#d8576b"
            ],
            [
             0.6666666666666666,
             "#ed7953"
            ],
            [
             0.7777777777777778,
             "#fb9f3a"
            ],
            [
             0.8888888888888888,
             "#fdca26"
            ],
            [
             1,
             "#f0f921"
            ]
           ]
          },
          "colorway": [
           "#636efa",
           "#EF553B",
           "#00cc96",
           "#ab63fa",
           "#FFA15A",
           "#19d3f3",
           "#FF6692",
           "#B6E880",
           "#FF97FF",
           "#FECB52"
          ],
          "font": {
           "color": "#2a3f5f"
          },
          "geo": {
           "bgcolor": "white",
           "lakecolor": "white",
           "landcolor": "#E5ECF6",
           "showlakes": true,
           "showland": true,
           "subunitcolor": "white"
          },
          "hoverlabel": {
           "align": "left"
          },
          "hovermode": "closest",
          "mapbox": {
           "style": "light"
          },
          "paper_bgcolor": "white",
          "plot_bgcolor": "#E5ECF6",
          "polar": {
           "angularaxis": {
            "gridcolor": "white",
            "linecolor": "white",
            "ticks": ""
           },
           "bgcolor": "#E5ECF6",
           "radialaxis": {
            "gridcolor": "white",
            "linecolor": "white",
            "ticks": ""
           }
          },
          "scene": {
           "xaxis": {
            "backgroundcolor": "#E5ECF6",
            "gridcolor": "white",
            "gridwidth": 2,
            "linecolor": "white",
            "showbackground": true,
            "ticks": "",
            "zerolinecolor": "white"
           },
           "yaxis": {
            "backgroundcolor": "#E5ECF6",
            "gridcolor": "white",
            "gridwidth": 2,
            "linecolor": "white",
            "showbackground": true,
            "ticks": "",
            "zerolinecolor": "white"
           },
           "zaxis": {
            "backgroundcolor": "#E5ECF6",
            "gridcolor": "white",
            "gridwidth": 2,
            "linecolor": "white",
            "showbackground": true,
            "ticks": "",
            "zerolinecolor": "white"
           }
          },
          "shapedefaults": {
           "line": {
            "color": "#2a3f5f"
           }
          },
          "ternary": {
           "aaxis": {
            "gridcolor": "white",
            "linecolor": "white",
            "ticks": ""
           },
           "baxis": {
            "gridcolor": "white",
            "linecolor": "white",
            "ticks": ""
           },
           "bgcolor": "#E5ECF6",
           "caxis": {
            "gridcolor": "white",
            "linecolor": "white",
            "ticks": ""
           }
          },
          "title": {
           "x": 0.05
          },
          "xaxis": {
           "automargin": true,
           "gridcolor": "white",
           "linecolor": "white",
           "ticks": "",
           "title": {
            "standoff": 15
           },
           "zerolinecolor": "white",
           "zerolinewidth": 2
          },
          "yaxis": {
           "automargin": true,
           "gridcolor": "white",
           "linecolor": "white",
           "ticks": "",
           "title": {
            "standoff": 15
           },
           "zerolinecolor": "white",
           "zerolinewidth": 2
          }
         }
        },
        "title": {
         "text": "Number of NBA players per position since 1950"
        },
        "xaxis": {
         "anchor": "y",
         "domain": [
          0,
          1
         ],
         "title": {
          "text": "index"
         }
        },
        "yaxis": {
         "anchor": "x",
         "domain": [
          0,
          1
         ],
         "title": {
          "text": "value"
         }
        }
       }
      }
     },
     "metadata": {},
     "output_type": "display_data"
    }
   ],
   "source": [
    "fig = df.position.value_counts().plot(kind='bar', title= 'Number of NBA players per position since 1950')\n",
    "fig.update_traces(cavs_r)\n",
    "fig.show()"
   ]
  },
  {
   "cell_type": "code",
   "execution_count": null,
   "metadata": {},
   "outputs": [],
   "source": []
  },
  {
   "cell_type": "code",
   "execution_count": null,
   "metadata": {},
   "outputs": [],
   "source": [
    "# make this better lol\n",
    "df.college.value_counts().plot(kind='bar')"
   ]
  },
  {
   "cell_type": "code",
   "execution_count": 8,
   "metadata": {},
   "outputs": [
    {
     "data": {
      "application/vnd.plotly.v1+json": {
       "config": {
        "plotlyServerURL": "https://plot.ly"
       },
       "data": [
        {
         "alignmentgroup": "True",
         "hovertemplate": "variable=year_start<br>index=%{x}<br>value=%{y}<extra></extra>",
         "legendgroup": "year_start",
         "marker": {
          "color": "#EEE1C6",
          "line": {
           "color": "#00471B",
           "width": 3
          },
          "pattern": {
           "shape": ""
          }
         },
         "name": "year_start",
         "offsetgroup": "year_start",
         "orientation": "v",
         "showlegend": true,
         "textposition": "auto",
         "type": "bar",
         "x": [
          1968,
          1947,
          1950,
          1971,
          1949,
          1969,
          2018,
          2017,
          2006,
          2015,
          2012,
          1990,
          2007,
          1972,
          2014,
          2013,
          1981,
          1989,
          1970,
          1996,
          1975,
          2016,
          1991,
          1994,
          2005,
          1976,
          2002,
          1997,
          1973,
          2001,
          1999,
          2011,
          2004,
          1998,
          1993,
          1982,
          2008,
          2003,
          1983,
          1974,
          1987,
          1986,
          2009,
          1992,
          2000,
          1985,
          1995,
          1988,
          2010,
          1978,
          1984,
          1979,
          1980,
          1977,
          1948,
          1962,
          1963,
          1954,
          1955,
          1953,
          1967,
          1951,
          1956,
          1952,
          1957,
          1965,
          1959,
          1964,
          1966,
          1958,
          1961,
          1960
         ],
         "xaxis": "x",
         "y": [
          173,
          161,
          120,
          100,
          94,
          92,
          90,
          88,
          85,
          82,
          81,
          81,
          80,
          79,
          78,
          78,
          77,
          77,
          77,
          74,
          74,
          73,
          73,
          72,
          70,
          70,
          69,
          69,
          69,
          68,
          67,
          67,
          67,
          66,
          66,
          65,
          64,
          64,
          63,
          63,
          63,
          62,
          62,
          61,
          60,
          60,
          60,
          59,
          58,
          57,
          55,
          53,
          53,
          43,
          40,
          36,
          36,
          35,
          35,
          34,
          32,
          30,
          29,
          29,
          26,
          25,
          25,
          23,
          23,
          21,
          20,
          19
         ],
         "yaxis": "y"
        }
       ],
       "layout": {
        "barmode": "relative",
        "legend": {
         "title": {
          "text": "variable"
         },
         "tracegroupgap": 0
        },
        "template": {
         "data": {
          "bar": [
           {
            "error_x": {
             "color": "#2a3f5f"
            },
            "error_y": {
             "color": "#2a3f5f"
            },
            "marker": {
             "line": {
              "color": "#E5ECF6",
              "width": 0.5
             },
             "pattern": {
              "fillmode": "overlay",
              "size": 10,
              "solidity": 0.2
             }
            },
            "type": "bar"
           }
          ],
          "barpolar": [
           {
            "marker": {
             "line": {
              "color": "#E5ECF6",
              "width": 0.5
             },
             "pattern": {
              "fillmode": "overlay",
              "size": 10,
              "solidity": 0.2
             }
            },
            "type": "barpolar"
           }
          ],
          "carpet": [
           {
            "aaxis": {
             "endlinecolor": "#2a3f5f",
             "gridcolor": "white",
             "linecolor": "white",
             "minorgridcolor": "white",
             "startlinecolor": "#2a3f5f"
            },
            "baxis": {
             "endlinecolor": "#2a3f5f",
             "gridcolor": "white",
             "linecolor": "white",
             "minorgridcolor": "white",
             "startlinecolor": "#2a3f5f"
            },
            "type": "carpet"
           }
          ],
          "choropleth": [
           {
            "colorbar": {
             "outlinewidth": 0,
             "ticks": ""
            },
            "type": "choropleth"
           }
          ],
          "contour": [
           {
            "colorbar": {
             "outlinewidth": 0,
             "ticks": ""
            },
            "colorscale": [
             [
              0,
              "#0d0887"
             ],
             [
              0.1111111111111111,
              "#46039f"
             ],
             [
              0.2222222222222222,
              "#7201a8"
             ],
             [
              0.3333333333333333,
              "#9c179e"
             ],
             [
              0.4444444444444444,
              "#bd3786"
             ],
             [
              0.5555555555555556,
              "#d8576b"
             ],
             [
              0.6666666666666666,
              "#ed7953"
             ],
             [
              0.7777777777777778,
              "#fb9f3a"
             ],
             [
              0.8888888888888888,
              "#fdca26"
             ],
             [
              1,
              "#f0f921"
             ]
            ],
            "type": "contour"
           }
          ],
          "contourcarpet": [
           {
            "colorbar": {
             "outlinewidth": 0,
             "ticks": ""
            },
            "type": "contourcarpet"
           }
          ],
          "heatmap": [
           {
            "colorbar": {
             "outlinewidth": 0,
             "ticks": ""
            },
            "colorscale": [
             [
              0,
              "#0d0887"
             ],
             [
              0.1111111111111111,
              "#46039f"
             ],
             [
              0.2222222222222222,
              "#7201a8"
             ],
             [
              0.3333333333333333,
              "#9c179e"
             ],
             [
              0.4444444444444444,
              "#bd3786"
             ],
             [
              0.5555555555555556,
              "#d8576b"
             ],
             [
              0.6666666666666666,
              "#ed7953"
             ],
             [
              0.7777777777777778,
              "#fb9f3a"
             ],
             [
              0.8888888888888888,
              "#fdca26"
             ],
             [
              1,
              "#f0f921"
             ]
            ],
            "type": "heatmap"
           }
          ],
          "heatmapgl": [
           {
            "colorbar": {
             "outlinewidth": 0,
             "ticks": ""
            },
            "colorscale": [
             [
              0,
              "#0d0887"
             ],
             [
              0.1111111111111111,
              "#46039f"
             ],
             [
              0.2222222222222222,
              "#7201a8"
             ],
             [
              0.3333333333333333,
              "#9c179e"
             ],
             [
              0.4444444444444444,
              "#bd3786"
             ],
             [
              0.5555555555555556,
              "#d8576b"
             ],
             [
              0.6666666666666666,
              "#ed7953"
             ],
             [
              0.7777777777777778,
              "#fb9f3a"
             ],
             [
              0.8888888888888888,
              "#fdca26"
             ],
             [
              1,
              "#f0f921"
             ]
            ],
            "type": "heatmapgl"
           }
          ],
          "histogram": [
           {
            "marker": {
             "pattern": {
              "fillmode": "overlay",
              "size": 10,
              "solidity": 0.2
             }
            },
            "type": "histogram"
           }
          ],
          "histogram2d": [
           {
            "colorbar": {
             "outlinewidth": 0,
             "ticks": ""
            },
            "colorscale": [
             [
              0,
              "#0d0887"
             ],
             [
              0.1111111111111111,
              "#46039f"
             ],
             [
              0.2222222222222222,
              "#7201a8"
             ],
             [
              0.3333333333333333,
              "#9c179e"
             ],
             [
              0.4444444444444444,
              "#bd3786"
             ],
             [
              0.5555555555555556,
              "#d8576b"
             ],
             [
              0.6666666666666666,
              "#ed7953"
             ],
             [
              0.7777777777777778,
              "#fb9f3a"
             ],
             [
              0.8888888888888888,
              "#fdca26"
             ],
             [
              1,
              "#f0f921"
             ]
            ],
            "type": "histogram2d"
           }
          ],
          "histogram2dcontour": [
           {
            "colorbar": {
             "outlinewidth": 0,
             "ticks": ""
            },
            "colorscale": [
             [
              0,
              "#0d0887"
             ],
             [
              0.1111111111111111,
              "#46039f"
             ],
             [
              0.2222222222222222,
              "#7201a8"
             ],
             [
              0.3333333333333333,
              "#9c179e"
             ],
             [
              0.4444444444444444,
              "#bd3786"
             ],
             [
              0.5555555555555556,
              "#d8576b"
             ],
             [
              0.6666666666666666,
              "#ed7953"
             ],
             [
              0.7777777777777778,
              "#fb9f3a"
             ],
             [
              0.8888888888888888,
              "#fdca26"
             ],
             [
              1,
              "#f0f921"
             ]
            ],
            "type": "histogram2dcontour"
           }
          ],
          "mesh3d": [
           {
            "colorbar": {
             "outlinewidth": 0,
             "ticks": ""
            },
            "type": "mesh3d"
           }
          ],
          "parcoords": [
           {
            "line": {
             "colorbar": {
              "outlinewidth": 0,
              "ticks": ""
             }
            },
            "type": "parcoords"
           }
          ],
          "pie": [
           {
            "automargin": true,
            "type": "pie"
           }
          ],
          "scatter": [
           {
            "fillpattern": {
             "fillmode": "overlay",
             "size": 10,
             "solidity": 0.2
            },
            "type": "scatter"
           }
          ],
          "scatter3d": [
           {
            "line": {
             "colorbar": {
              "outlinewidth": 0,
              "ticks": ""
             }
            },
            "marker": {
             "colorbar": {
              "outlinewidth": 0,
              "ticks": ""
             }
            },
            "type": "scatter3d"
           }
          ],
          "scattercarpet": [
           {
            "marker": {
             "colorbar": {
              "outlinewidth": 0,
              "ticks": ""
             }
            },
            "type": "scattercarpet"
           }
          ],
          "scattergeo": [
           {
            "marker": {
             "colorbar": {
              "outlinewidth": 0,
              "ticks": ""
             }
            },
            "type": "scattergeo"
           }
          ],
          "scattergl": [
           {
            "marker": {
             "colorbar": {
              "outlinewidth": 0,
              "ticks": ""
             }
            },
            "type": "scattergl"
           }
          ],
          "scattermapbox": [
           {
            "marker": {
             "colorbar": {
              "outlinewidth": 0,
              "ticks": ""
             }
            },
            "type": "scattermapbox"
           }
          ],
          "scatterpolar": [
           {
            "marker": {
             "colorbar": {
              "outlinewidth": 0,
              "ticks": ""
             }
            },
            "type": "scatterpolar"
           }
          ],
          "scatterpolargl": [
           {
            "marker": {
             "colorbar": {
              "outlinewidth": 0,
              "ticks": ""
             }
            },
            "type": "scatterpolargl"
           }
          ],
          "scatterternary": [
           {
            "marker": {
             "colorbar": {
              "outlinewidth": 0,
              "ticks": ""
             }
            },
            "type": "scatterternary"
           }
          ],
          "surface": [
           {
            "colorbar": {
             "outlinewidth": 0,
             "ticks": ""
            },
            "colorscale": [
             [
              0,
              "#0d0887"
             ],
             [
              0.1111111111111111,
              "#46039f"
             ],
             [
              0.2222222222222222,
              "#7201a8"
             ],
             [
              0.3333333333333333,
              "#9c179e"
             ],
             [
              0.4444444444444444,
              "#bd3786"
             ],
             [
              0.5555555555555556,
              "#d8576b"
             ],
             [
              0.6666666666666666,
              "#ed7953"
             ],
             [
              0.7777777777777778,
              "#fb9f3a"
             ],
             [
              0.8888888888888888,
              "#fdca26"
             ],
             [
              1,
              "#f0f921"
             ]
            ],
            "type": "surface"
           }
          ],
          "table": [
           {
            "cells": {
             "fill": {
              "color": "#EBF0F8"
             },
             "line": {
              "color": "white"
             }
            },
            "header": {
             "fill": {
              "color": "#C8D4E3"
             },
             "line": {
              "color": "white"
             }
            },
            "type": "table"
           }
          ]
         },
         "layout": {
          "annotationdefaults": {
           "arrowcolor": "#2a3f5f",
           "arrowhead": 0,
           "arrowwidth": 1
          },
          "autotypenumbers": "strict",
          "coloraxis": {
           "colorbar": {
            "outlinewidth": 0,
            "ticks": ""
           }
          },
          "colorscale": {
           "diverging": [
            [
             0,
             "#8e0152"
            ],
            [
             0.1,
             "#c51b7d"
            ],
            [
             0.2,
             "#de77ae"
            ],
            [
             0.3,
             "#f1b6da"
            ],
            [
             0.4,
             "#fde0ef"
            ],
            [
             0.5,
             "#f7f7f7"
            ],
            [
             0.6,
             "#e6f5d0"
            ],
            [
             0.7,
             "#b8e186"
            ],
            [
             0.8,
             "#7fbc41"
            ],
            [
             0.9,
             "#4d9221"
            ],
            [
             1,
             "#276419"
            ]
           ],
           "sequential": [
            [
             0,
             "#0d0887"
            ],
            [
             0.1111111111111111,
             "#46039f"
            ],
            [
             0.2222222222222222,
             "#7201a8"
            ],
            [
             0.3333333333333333,
             "#9c179e"
            ],
            [
             0.4444444444444444,
             "#bd3786"
            ],
            [
             0.5555555555555556,
             "#d8576b"
            ],
            [
             0.6666666666666666,
             "#ed7953"
            ],
            [
             0.7777777777777778,
             "#fb9f3a"
            ],
            [
             0.8888888888888888,
             "#fdca26"
            ],
            [
             1,
             "#f0f921"
            ]
           ],
           "sequentialminus": [
            [
             0,
             "#0d0887"
            ],
            [
             0.1111111111111111,
             "#46039f"
            ],
            [
             0.2222222222222222,
             "#7201a8"
            ],
            [
             0.3333333333333333,
             "#9c179e"
            ],
            [
             0.4444444444444444,
             "#bd3786"
            ],
            [
             0.5555555555555556,
             "#d8576b"
            ],
            [
             0.6666666666666666,
             "#ed7953"
            ],
            [
             0.7777777777777778,
             "#fb9f3a"
            ],
            [
             0.8888888888888888,
             "#fdca26"
            ],
            [
             1,
             "#f0f921"
            ]
           ]
          },
          "colorway": [
           "#636efa",
           "#EF553B",
           "#00cc96",
           "#ab63fa",
           "#FFA15A",
           "#19d3f3",
           "#FF6692",
           "#B6E880",
           "#FF97FF",
           "#FECB52"
          ],
          "font": {
           "color": "#2a3f5f"
          },
          "geo": {
           "bgcolor": "white",
           "lakecolor": "white",
           "landcolor": "#E5ECF6",
           "showlakes": true,
           "showland": true,
           "subunitcolor": "white"
          },
          "hoverlabel": {
           "align": "left"
          },
          "hovermode": "closest",
          "mapbox": {
           "style": "light"
          },
          "paper_bgcolor": "white",
          "plot_bgcolor": "#E5ECF6",
          "polar": {
           "angularaxis": {
            "gridcolor": "white",
            "linecolor": "white",
            "ticks": ""
           },
           "bgcolor": "#E5ECF6",
           "radialaxis": {
            "gridcolor": "white",
            "linecolor": "white",
            "ticks": ""
           }
          },
          "scene": {
           "xaxis": {
            "backgroundcolor": "#E5ECF6",
            "gridcolor": "white",
            "gridwidth": 2,
            "linecolor": "white",
            "showbackground": true,
            "ticks": "",
            "zerolinecolor": "white"
           },
           "yaxis": {
            "backgroundcolor": "#E5ECF6",
            "gridcolor": "white",
            "gridwidth": 2,
            "linecolor": "white",
            "showbackground": true,
            "ticks": "",
            "zerolinecolor": "white"
           },
           "zaxis": {
            "backgroundcolor": "#E5ECF6",
            "gridcolor": "white",
            "gridwidth": 2,
            "linecolor": "white",
            "showbackground": true,
            "ticks": "",
            "zerolinecolor": "white"
           }
          },
          "shapedefaults": {
           "line": {
            "color": "#2a3f5f"
           }
          },
          "ternary": {
           "aaxis": {
            "gridcolor": "white",
            "linecolor": "white",
            "ticks": ""
           },
           "baxis": {
            "gridcolor": "white",
            "linecolor": "white",
            "ticks": ""
           },
           "bgcolor": "#E5ECF6",
           "caxis": {
            "gridcolor": "white",
            "linecolor": "white",
            "ticks": ""
           }
          },
          "title": {
           "x": 0.05
          },
          "xaxis": {
           "automargin": true,
           "gridcolor": "white",
           "linecolor": "white",
           "ticks": "",
           "title": {
            "standoff": 15
           },
           "zerolinecolor": "white",
           "zerolinewidth": 2
          },
          "yaxis": {
           "automargin": true,
           "gridcolor": "white",
           "linecolor": "white",
           "ticks": "",
           "title": {
            "standoff": 15
           },
           "zerolinecolor": "white",
           "zerolinewidth": 2
          }
         }
        },
        "title": {
         "text": "Number of NBA players per year start"
        },
        "xaxis": {
         "anchor": "y",
         "domain": [
          0,
          1
         ],
         "title": {
          "text": "index"
         }
        },
        "yaxis": {
         "anchor": "x",
         "domain": [
          0,
          1
         ],
         "title": {
          "text": "value"
         }
        }
       }
      }
     },
     "metadata": {},
     "output_type": "display_data"
    }
   ],
   "source": [
    "fig = df.year_start.value_counts().plot(kind='bar', title= 'Number of NBA players per year start')\n",
    "fig.update_traces(bucks_r)\n",
    "fig.show()"
   ]
  },
  {
   "cell_type": "code",
   "execution_count": 9,
   "metadata": {},
   "outputs": [
    {
     "data": {
      "application/vnd.plotly.v1+json": {
       "config": {
        "plotlyServerURL": "https://plot.ly"
       },
       "data": [
        {
         "alignmentgroup": "True",
         "hovertemplate": "variable=year_end<br>index=%{x}<br>value=%{y}<extra></extra>",
         "legendgroup": "year_end",
         "marker": {
          "color": "#ED174C",
          "line": {
           "color": "#006BB6",
           "width": 3
          },
          "pattern": {
           "shape": ""
          }
         },
         "name": "year_end",
         "offsetgroup": "year_end",
         "orientation": "v",
         "showlegend": true,
         "textposition": "auto",
         "type": "bar",
         "x": [
          2018,
          2017,
          1950,
          1976,
          2005,
          1947,
          2012,
          1968,
          2016,
          1972,
          2015,
          1975,
          2014,
          1971,
          2013,
          1997,
          2001,
          1949,
          1999,
          1970,
          2006,
          1969,
          2000,
          2007,
          2003,
          2009,
          1973,
          2008,
          1980,
          1998,
          1977,
          1994,
          1993,
          2002,
          1990,
          1982,
          1983,
          1986,
          1995,
          1974,
          1996,
          2004,
          1988,
          1987,
          1978,
          1992,
          2011,
          1981,
          1989,
          2010,
          1991,
          1951,
          1953,
          1984,
          1979,
          1985,
          1955,
          1954,
          1962,
          1958,
          1952,
          1948,
          1963,
          1957,
          1960,
          1964,
          1965,
          1956,
          1959,
          1966,
          1961,
          1967
         ],
         "xaxis": "x",
         "y": [
          471,
          119,
          102,
          95,
          88,
          87,
          85,
          84,
          84,
          83,
          83,
          82,
          79,
          75,
          73,
          73,
          72,
          72,
          71,
          71,
          71,
          69,
          69,
          69,
          67,
          66,
          65,
          65,
          62,
          62,
          62,
          61,
          61,
          60,
          60,
          59,
          59,
          59,
          59,
          58,
          57,
          57,
          56,
          55,
          55,
          55,
          55,
          55,
          54,
          54,
          54,
          52,
          50,
          49,
          47,
          45,
          42,
          38,
          36,
          36,
          34,
          31,
          26,
          24,
          22,
          19,
          17,
          17,
          14,
          14,
          12,
          6
         ],
         "yaxis": "y"
        }
       ],
       "layout": {
        "barmode": "relative",
        "legend": {
         "title": {
          "text": "variable"
         },
         "tracegroupgap": 0
        },
        "template": {
         "data": {
          "bar": [
           {
            "error_x": {
             "color": "#2a3f5f"
            },
            "error_y": {
             "color": "#2a3f5f"
            },
            "marker": {
             "line": {
              "color": "#E5ECF6",
              "width": 0.5
             },
             "pattern": {
              "fillmode": "overlay",
              "size": 10,
              "solidity": 0.2
             }
            },
            "type": "bar"
           }
          ],
          "barpolar": [
           {
            "marker": {
             "line": {
              "color": "#E5ECF6",
              "width": 0.5
             },
             "pattern": {
              "fillmode": "overlay",
              "size": 10,
              "solidity": 0.2
             }
            },
            "type": "barpolar"
           }
          ],
          "carpet": [
           {
            "aaxis": {
             "endlinecolor": "#2a3f5f",
             "gridcolor": "white",
             "linecolor": "white",
             "minorgridcolor": "white",
             "startlinecolor": "#2a3f5f"
            },
            "baxis": {
             "endlinecolor": "#2a3f5f",
             "gridcolor": "white",
             "linecolor": "white",
             "minorgridcolor": "white",
             "startlinecolor": "#2a3f5f"
            },
            "type": "carpet"
           }
          ],
          "choropleth": [
           {
            "colorbar": {
             "outlinewidth": 0,
             "ticks": ""
            },
            "type": "choropleth"
           }
          ],
          "contour": [
           {
            "colorbar": {
             "outlinewidth": 0,
             "ticks": ""
            },
            "colorscale": [
             [
              0,
              "#0d0887"
             ],
             [
              0.1111111111111111,
              "#46039f"
             ],
             [
              0.2222222222222222,
              "#7201a8"
             ],
             [
              0.3333333333333333,
              "#9c179e"
             ],
             [
              0.4444444444444444,
              "#bd3786"
             ],
             [
              0.5555555555555556,
              "#d8576b"
             ],
             [
              0.6666666666666666,
              "#ed7953"
             ],
             [
              0.7777777777777778,
              "#fb9f3a"
             ],
             [
              0.8888888888888888,
              "#fdca26"
             ],
             [
              1,
              "#f0f921"
             ]
            ],
            "type": "contour"
           }
          ],
          "contourcarpet": [
           {
            "colorbar": {
             "outlinewidth": 0,
             "ticks": ""
            },
            "type": "contourcarpet"
           }
          ],
          "heatmap": [
           {
            "colorbar": {
             "outlinewidth": 0,
             "ticks": ""
            },
            "colorscale": [
             [
              0,
              "#0d0887"
             ],
             [
              0.1111111111111111,
              "#46039f"
             ],
             [
              0.2222222222222222,
              "#7201a8"
             ],
             [
              0.3333333333333333,
              "#9c179e"
             ],
             [
              0.4444444444444444,
              "#bd3786"
             ],
             [
              0.5555555555555556,
              "#d8576b"
             ],
             [
              0.6666666666666666,
              "#ed7953"
             ],
             [
              0.7777777777777778,
              "#fb9f3a"
             ],
             [
              0.8888888888888888,
              "#fdca26"
             ],
             [
              1,
              "#f0f921"
             ]
            ],
            "type": "heatmap"
           }
          ],
          "heatmapgl": [
           {
            "colorbar": {
             "outlinewidth": 0,
             "ticks": ""
            },
            "colorscale": [
             [
              0,
              "#0d0887"
             ],
             [
              0.1111111111111111,
              "#46039f"
             ],
             [
              0.2222222222222222,
              "#7201a8"
             ],
             [
              0.3333333333333333,
              "#9c179e"
             ],
             [
              0.4444444444444444,
              "#bd3786"
             ],
             [
              0.5555555555555556,
              "#d8576b"
             ],
             [
              0.6666666666666666,
              "#ed7953"
             ],
             [
              0.7777777777777778,
              "#fb9f3a"
             ],
             [
              0.8888888888888888,
              "#fdca26"
             ],
             [
              1,
              "#f0f921"
             ]
            ],
            "type": "heatmapgl"
           }
          ],
          "histogram": [
           {
            "marker": {
             "pattern": {
              "fillmode": "overlay",
              "size": 10,
              "solidity": 0.2
             }
            },
            "type": "histogram"
           }
          ],
          "histogram2d": [
           {
            "colorbar": {
             "outlinewidth": 0,
             "ticks": ""
            },
            "colorscale": [
             [
              0,
              "#0d0887"
             ],
             [
              0.1111111111111111,
              "#46039f"
             ],
             [
              0.2222222222222222,
              "#7201a8"
             ],
             [
              0.3333333333333333,
              "#9c179e"
             ],
             [
              0.4444444444444444,
              "#bd3786"
             ],
             [
              0.5555555555555556,
              "#d8576b"
             ],
             [
              0.6666666666666666,
              "#ed7953"
             ],
             [
              0.7777777777777778,
              "#fb9f3a"
             ],
             [
              0.8888888888888888,
              "#fdca26"
             ],
             [
              1,
              "#f0f921"
             ]
            ],
            "type": "histogram2d"
           }
          ],
          "histogram2dcontour": [
           {
            "colorbar": {
             "outlinewidth": 0,
             "ticks": ""
            },
            "colorscale": [
             [
              0,
              "#0d0887"
             ],
             [
              0.1111111111111111,
              "#46039f"
             ],
             [
              0.2222222222222222,
              "#7201a8"
             ],
             [
              0.3333333333333333,
              "#9c179e"
             ],
             [
              0.4444444444444444,
              "#bd3786"
             ],
             [
              0.5555555555555556,
              "#d8576b"
             ],
             [
              0.6666666666666666,
              "#ed7953"
             ],
             [
              0.7777777777777778,
              "#fb9f3a"
             ],
             [
              0.8888888888888888,
              "#fdca26"
             ],
             [
              1,
              "#f0f921"
             ]
            ],
            "type": "histogram2dcontour"
           }
          ],
          "mesh3d": [
           {
            "colorbar": {
             "outlinewidth": 0,
             "ticks": ""
            },
            "type": "mesh3d"
           }
          ],
          "parcoords": [
           {
            "line": {
             "colorbar": {
              "outlinewidth": 0,
              "ticks": ""
             }
            },
            "type": "parcoords"
           }
          ],
          "pie": [
           {
            "automargin": true,
            "type": "pie"
           }
          ],
          "scatter": [
           {
            "fillpattern": {
             "fillmode": "overlay",
             "size": 10,
             "solidity": 0.2
            },
            "type": "scatter"
           }
          ],
          "scatter3d": [
           {
            "line": {
             "colorbar": {
              "outlinewidth": 0,
              "ticks": ""
             }
            },
            "marker": {
             "colorbar": {
              "outlinewidth": 0,
              "ticks": ""
             }
            },
            "type": "scatter3d"
           }
          ],
          "scattercarpet": [
           {
            "marker": {
             "colorbar": {
              "outlinewidth": 0,
              "ticks": ""
             }
            },
            "type": "scattercarpet"
           }
          ],
          "scattergeo": [
           {
            "marker": {
             "colorbar": {
              "outlinewidth": 0,
              "ticks": ""
             }
            },
            "type": "scattergeo"
           }
          ],
          "scattergl": [
           {
            "marker": {
             "colorbar": {
              "outlinewidth": 0,
              "ticks": ""
             }
            },
            "type": "scattergl"
           }
          ],
          "scattermapbox": [
           {
            "marker": {
             "colorbar": {
              "outlinewidth": 0,
              "ticks": ""
             }
            },
            "type": "scattermapbox"
           }
          ],
          "scatterpolar": [
           {
            "marker": {
             "colorbar": {
              "outlinewidth": 0,
              "ticks": ""
             }
            },
            "type": "scatterpolar"
           }
          ],
          "scatterpolargl": [
           {
            "marker": {
             "colorbar": {
              "outlinewidth": 0,
              "ticks": ""
             }
            },
            "type": "scatterpolargl"
           }
          ],
          "scatterternary": [
           {
            "marker": {
             "colorbar": {
              "outlinewidth": 0,
              "ticks": ""
             }
            },
            "type": "scatterternary"
           }
          ],
          "surface": [
           {
            "colorbar": {
             "outlinewidth": 0,
             "ticks": ""
            },
            "colorscale": [
             [
              0,
              "#0d0887"
             ],
             [
              0.1111111111111111,
              "#46039f"
             ],
             [
              0.2222222222222222,
              "#7201a8"
             ],
             [
              0.3333333333333333,
              "#9c179e"
             ],
             [
              0.4444444444444444,
              "#bd3786"
             ],
             [
              0.5555555555555556,
              "#d8576b"
             ],
             [
              0.6666666666666666,
              "#ed7953"
             ],
             [
              0.7777777777777778,
              "#fb9f3a"
             ],
             [
              0.8888888888888888,
              "#fdca26"
             ],
             [
              1,
              "#f0f921"
             ]
            ],
            "type": "surface"
           }
          ],
          "table": [
           {
            "cells": {
             "fill": {
              "color": "#EBF0F8"
             },
             "line": {
              "color": "white"
             }
            },
            "header": {
             "fill": {
              "color": "#C8D4E3"
             },
             "line": {
              "color": "white"
             }
            },
            "type": "table"
           }
          ]
         },
         "layout": {
          "annotationdefaults": {
           "arrowcolor": "#2a3f5f",
           "arrowhead": 0,
           "arrowwidth": 1
          },
          "autotypenumbers": "strict",
          "coloraxis": {
           "colorbar": {
            "outlinewidth": 0,
            "ticks": ""
           }
          },
          "colorscale": {
           "diverging": [
            [
             0,
             "#8e0152"
            ],
            [
             0.1,
             "#c51b7d"
            ],
            [
             0.2,
             "#de77ae"
            ],
            [
             0.3,
             "#f1b6da"
            ],
            [
             0.4,
             "#fde0ef"
            ],
            [
             0.5,
             "#f7f7f7"
            ],
            [
             0.6,
             "#e6f5d0"
            ],
            [
             0.7,
             "#b8e186"
            ],
            [
             0.8,
             "#7fbc41"
            ],
            [
             0.9,
             "#4d9221"
            ],
            [
             1,
             "#276419"
            ]
           ],
           "sequential": [
            [
             0,
             "#0d0887"
            ],
            [
             0.1111111111111111,
             "#46039f"
            ],
            [
             0.2222222222222222,
             "#7201a8"
            ],
            [
             0.3333333333333333,
             "#9c179e"
            ],
            [
             0.4444444444444444,
             "#bd3786"
            ],
            [
             0.5555555555555556,
             "#d8576b"
            ],
            [
             0.6666666666666666,
             "#ed7953"
            ],
            [
             0.7777777777777778,
             "#fb9f3a"
            ],
            [
             0.8888888888888888,
             "#fdca26"
            ],
            [
             1,
             "#f0f921"
            ]
           ],
           "sequentialminus": [
            [
             0,
             "#0d0887"
            ],
            [
             0.1111111111111111,
             "#46039f"
            ],
            [
             0.2222222222222222,
             "#7201a8"
            ],
            [
             0.3333333333333333,
             "#9c179e"
            ],
            [
             0.4444444444444444,
             "#bd3786"
            ],
            [
             0.5555555555555556,
             "#d8576b"
            ],
            [
             0.6666666666666666,
             "#ed7953"
            ],
            [
             0.7777777777777778,
             "#fb9f3a"
            ],
            [
             0.8888888888888888,
             "#fdca26"
            ],
            [
             1,
             "#f0f921"
            ]
           ]
          },
          "colorway": [
           "#636efa",
           "#EF553B",
           "#00cc96",
           "#ab63fa",
           "#FFA15A",
           "#19d3f3",
           "#FF6692",
           "#B6E880",
           "#FF97FF",
           "#FECB52"
          ],
          "font": {
           "color": "#2a3f5f"
          },
          "geo": {
           "bgcolor": "white",
           "lakecolor": "white",
           "landcolor": "#E5ECF6",
           "showlakes": true,
           "showland": true,
           "subunitcolor": "white"
          },
          "hoverlabel": {
           "align": "left"
          },
          "hovermode": "closest",
          "mapbox": {
           "style": "light"
          },
          "paper_bgcolor": "white",
          "plot_bgcolor": "#E5ECF6",
          "polar": {
           "angularaxis": {
            "gridcolor": "white",
            "linecolor": "white",
            "ticks": ""
           },
           "bgcolor": "#E5ECF6",
           "radialaxis": {
            "gridcolor": "white",
            "linecolor": "white",
            "ticks": ""
           }
          },
          "scene": {
           "xaxis": {
            "backgroundcolor": "#E5ECF6",
            "gridcolor": "white",
            "gridwidth": 2,
            "linecolor": "white",
            "showbackground": true,
            "ticks": "",
            "zerolinecolor": "white"
           },
           "yaxis": {
            "backgroundcolor": "#E5ECF6",
            "gridcolor": "white",
            "gridwidth": 2,
            "linecolor": "white",
            "showbackground": true,
            "ticks": "",
            "zerolinecolor": "white"
           },
           "zaxis": {
            "backgroundcolor": "#E5ECF6",
            "gridcolor": "white",
            "gridwidth": 2,
            "linecolor": "white",
            "showbackground": true,
            "ticks": "",
            "zerolinecolor": "white"
           }
          },
          "shapedefaults": {
           "line": {
            "color": "#2a3f5f"
           }
          },
          "ternary": {
           "aaxis": {
            "gridcolor": "white",
            "linecolor": "white",
            "ticks": ""
           },
           "baxis": {
            "gridcolor": "white",
            "linecolor": "white",
            "ticks": ""
           },
           "bgcolor": "#E5ECF6",
           "caxis": {
            "gridcolor": "white",
            "linecolor": "white",
            "ticks": ""
           }
          },
          "title": {
           "x": 0.05
          },
          "xaxis": {
           "automargin": true,
           "gridcolor": "white",
           "linecolor": "white",
           "ticks": "",
           "title": {
            "standoff": 15
           },
           "zerolinecolor": "white",
           "zerolinewidth": 2
          },
          "yaxis": {
           "automargin": true,
           "gridcolor": "white",
           "linecolor": "white",
           "ticks": "",
           "title": {
            "standoff": 15
           },
           "zerolinecolor": "white",
           "zerolinewidth": 2
          }
         }
        },
        "title": {
         "text": "Number of NBA players per year end"
        },
        "xaxis": {
         "anchor": "y",
         "domain": [
          0,
          1
         ],
         "title": {
          "text": "index"
         }
        },
        "yaxis": {
         "anchor": "x",
         "domain": [
          0,
          1
         ],
         "title": {
          "text": "value"
         }
        }
       }
      }
     },
     "metadata": {},
     "output_type": "display_data"
    }
   ],
   "source": [
    "fig = df.year_end.value_counts().plot(kind='bar', title= 'Number of NBA players per year end')\n",
    "fig.update_traces(sixers_r)\n",
    "fig.show()"
   ]
  },
  {
   "cell_type": "markdown",
   "metadata": {},
   "source": []
  },
  {
   "cell_type": "markdown",
   "metadata": {},
   "source": []
  },
  {
   "cell_type": "markdown",
   "metadata": {},
   "source": []
  },
  {
   "cell_type": "markdown",
   "metadata": {},
   "source": []
  },
  {
   "cell_type": "markdown",
   "metadata": {},
   "source": [
    "## Next lets analyze the players' stats overtime"
   ]
  },
  {
   "cell_type": "markdown",
   "metadata": {},
   "source": [
    "which zodiac sign is best lol"
   ]
  },
  {
   "cell_type": "markdown",
   "metadata": {},
   "source": []
  }
 ],
 "metadata": {
  "kernelspec": {
   "display_name": "Python 3.8.2 ('base')",
   "language": "python",
   "name": "python3"
  },
  "language_info": {
   "codemirror_mode": {
    "name": "ipython",
    "version": 3
   },
   "file_extension": ".py",
   "mimetype": "text/x-python",
   "name": "python",
   "nbconvert_exporter": "python",
   "pygments_lexer": "ipython3",
   "version": "3.8.2"
  },
  "orig_nbformat": 4,
  "vscode": {
   "interpreter": {
    "hash": "64513436905a5770fb3f071339ece14f0166dbe142a9b417a8aaf6261c1c4bfd"
   }
  }
 },
 "nbformat": 4,
 "nbformat_minor": 2
}
